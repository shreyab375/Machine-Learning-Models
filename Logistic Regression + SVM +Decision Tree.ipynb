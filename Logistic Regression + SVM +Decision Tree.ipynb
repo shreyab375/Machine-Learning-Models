{
 "cells": [
  {
   "cell_type": "code",
   "execution_count": 1,
   "id": "convinced-brass",
   "metadata": {},
   "outputs": [],
   "source": [
    "from sklearn.datasets import load_digits\n",
    "digits = load_digits()"
   ]
  },
  {
   "cell_type": "code",
   "execution_count": 2,
   "id": "decreased-delta",
   "metadata": {},
   "outputs": [
    {
     "name": "stdout",
     "output_type": "stream",
     "text": [
      " Image Data Shape  (1797, 64)\n",
      " Label Data Shape  (1797,)\n"
     ]
    }
   ],
   "source": [
    "print(' Image Data Shape ', digits.data.shape)\n",
    "\n",
    "print(' Label Data Shape ', digits.target.shape)"
   ]
  },
  {
   "cell_type": "code",
   "execution_count": 3,
   "id": "traditional-vatican",
   "metadata": {},
   "outputs": [
    {
     "data": {
      "text/plain": [
       "<Figure size 1440x288 with 0 Axes>"
      ]
     },
     "execution_count": 3,
     "metadata": {},
     "output_type": "execute_result"
    },
    {
     "data": {
      "text/plain": [
       "<Figure size 1440x288 with 0 Axes>"
      ]
     },
     "metadata": {},
     "output_type": "display_data"
    }
   ],
   "source": [
    "import numpy as np \n",
    "import matplotlib.pyplot as plt\n",
    "plt.figure(figsize=(20,4))"
   ]
  },
  {
   "cell_type": "code",
   "execution_count": 4,
   "id": "signed-sigma",
   "metadata": {},
   "outputs": [
    {
     "data": {
      "text/plain": [
       "Text(0.5, 1.0, 'Data Distribution')"
      ]
     },
     "execution_count": 4,
     "metadata": {},
     "output_type": "execute_result"
    },
    {
     "data": {
      "image/png": "[encoded data removed]",
      "text/plain": [
       "<Figure size 432x288 with 1 Axes>"
      ]
     },
     "metadata": {
      "needs_background": "light"
     },
     "output_type": "display_data"
    }
   ],
   "source": [
    "# Checking the data distribution\n",
    "distribution = np.unique(digits.target, return_counts=True)\n",
    "plt.bar(distribution[0], distribution[1], color = 'r')\n",
    "plt.ylabel('Count of each digit in the data')\n",
    "plt.xlabel('Digits in the data')\n",
    "plt.title('Data Distribution')"
   ]
  },
  {
   "cell_type": "code",
   "execution_count": 5,
   "id": "steady-puzzle",
   "metadata": {},
   "outputs": [
    {
     "data": {
      "image/png": "[encoded data removed]",
      "text/plain": [
       "<Figure size 432x288 with 5 Axes>"
      ]
     },
     "metadata": {
      "needs_background": "light"
     },
     "output_type": "display_data"
    }
   ],
   "source": [
    "for index, (image, label) in enumerate(zip(digits.data[0:5], digits.target[0:5])):\n",
    "    plt.subplot(1, 5, index + 1)\n",
    "    plt.imshow(np.reshape(image, (8,8)), cmap=plt.cm.gray)\n",
    "    plt.title('Training: %i\\n' % label, fontsize = 10)\n",
    "    "
   ]
  },
  {
   "cell_type": "code",
   "execution_count": 6,
   "id": "floppy-murder",
   "metadata": {},
   "outputs": [],
   "source": [
    "from sklearn.model_selection import train_test_split\n",
    "x_train, x_test, y_train, y_test = train_test_split(digits.data, digits.target, test_size=0.25, random_state=0)"
   ]
  },
  {
   "cell_type": "code",
   "execution_count": 7,
   "id": "critical-enlargement",
   "metadata": {},
   "outputs": [],
   "source": [
    "from sklearn.linear_model import LogisticRegression"
   ]
  },
  {
   "cell_type": "code",
   "execution_count": 8,
   "id": "through-egypt",
   "metadata": {},
   "outputs": [],
   "source": [
    "model = LogisticRegression()"
   ]
  },
  {
   "cell_type": "code",
   "execution_count": 9,
   "id": "blank-centre",
   "metadata": {},
   "outputs": [
    {
     "name": "stderr",
     "output_type": "stream",
     "text": [
      "C:\\Users\\ShreyaB\\Anaconda3\\New folder\\envs\\Python3.6Test\\lib\\site-packages\\sklearn\\linear_model\\_logistic.py:764: ConvergenceWarning: lbfgs failed to converge (status=1):\n",
      "STOP: TOTAL NO. of ITERATIONS REACHED LIMIT.\n",
      "\n",
      "Increase the number of iterations (max_iter) or scale the data as shown in:\n",
      "    https://scikit-learn.org/stable/modules/preprocessing.html\n",
      "Please also refer to the documentation for alternative solver options:\n",
      "    https://scikit-learn.org/stable/modules/linear_model.html#logistic-regression\n",
      "  extra_warning_msg=_LOGISTIC_SOLVER_CONVERGENCE_MSG)\n"
     ]
    },
    {
     "data": {
      "text/plain": [
       "LogisticRegression()"
      ]
     },
     "execution_count": 9,
     "metadata": {},
     "output_type": "execute_result"
    }
   ],
   "source": [
    "model.fit(x_train, y_train)"
   ]
  },
  {
   "cell_type": "code",
   "execution_count": 10,
   "id": "authorized-conjunction",
   "metadata": {},
   "outputs": [
    {
     "data": {
      "text/plain": [
       "array([2])"
      ]
     },
     "execution_count": 10,
     "metadata": {},
     "output_type": "execute_result"
    }
   ],
   "source": [
    "# Predict for One Observation (image)\n",
    "model.predict(x_test[0].reshape(1,-1))"
   ]
  },
  {
   "cell_type": "code",
   "execution_count": 11,
   "id": "mounted-quick",
   "metadata": {},
   "outputs": [
    {
     "data": {
      "text/plain": [
       "array([2, 8, 2, 6, 6, 7, 1, 9, 8, 5])"
      ]
     },
     "execution_count": 11,
     "metadata": {},
     "output_type": "execute_result"
    }
   ],
   "source": [
    "# Predict for Multiple Observations (images) at Once\n",
    "model.predict(x_test[0:10])"
   ]
  },
  {
   "cell_type": "code",
   "execution_count": 12,
   "id": "meaningful-sequence",
   "metadata": {},
   "outputs": [],
   "source": [
    "# Store all predictions in one variable for the testing data-set\n",
    "predictions = model.predict(x_test)"
   ]
  },
  {
   "cell_type": "code",
   "execution_count": 13,
   "id": "equipped-cream",
   "metadata": {},
   "outputs": [
    {
     "name": "stdout",
     "output_type": "stream",
     "text": [
      "Accuracy is: 0.9511111111111111\n"
     ]
    }
   ],
   "source": [
    "from sklearn import metrics\n",
    "\n",
    "accuracy = metrics.accuracy_score(y_test, predictions)\n",
    "print('Accuracy is:',accuracy)"
   ]
  },
  {
   "cell_type": "code",
   "execution_count": 14,
   "id": "controlled-twins",
   "metadata": {},
   "outputs": [
    {
     "name": "stdout",
     "output_type": "stream",
     "text": [
      "[[37  0  0  0  0  0  0  0  0  0]\n",
      " [ 0 40  0  0  0  0  0  0  2  1]\n",
      " [ 0  1 40  3  0  0  0  0  0  0]\n",
      " [ 0  0  0 43  0  0  0  0  1  1]\n",
      " [ 0  0  0  0 37  0  0  1  0  0]\n",
      " [ 0  0  0  0  0 46  0  0  0  2]\n",
      " [ 0  1  0  0  0  0 51  0  0  0]\n",
      " [ 0  0  0  1  1  0  0 46  0  0]\n",
      " [ 0  3  1  0  0  0  0  0 43  1]\n",
      " [ 0  0  0  0  0  1  0  0  1 45]]\n"
     ]
    }
   ],
   "source": [
    "import matplotlib.pyplot as plt\n",
    "import seaborn as sns\n",
    "from sklearn import metrics\n",
    "cm = metrics.confusion_matrix(y_test, predictions)\n",
    "print(cm)"
   ]
  },
  {
   "cell_type": "code",
   "execution_count": 15,
   "id": "pharmaceutical-lindsay",
   "metadata": {},
   "outputs": [
    {
     "data": {
      "image/png": "[encoded data removed]",
      "text/plain": [
       "<Figure size 648x648 with 2 Axes>"
      ]
     },
     "metadata": {
      "needs_background": "light"
     },
     "output_type": "display_data"
    }
   ],
   "source": [
    "plt.figure(figsize=(9,9))\n",
    "sns.heatmap(cm, annot=True, fmt=\".3f\", linewidths=.5, square = True, cmap = 'Blues_r');\n",
    "plt.ylabel('Actual label');\n",
    "plt.xlabel('Predicted label');\n",
    "all_sample_title = 'Accuracy Score: {0}'.format(accuracy)\n",
    "plt.title(all_sample_title, size = 15);"
   ]
  },
  {
   "cell_type": "code",
   "execution_count": 16,
   "id": "failing-modification",
   "metadata": {},
   "outputs": [
    {
     "name": "stdout",
     "output_type": "stream",
     "text": [
      "Precision is: 0.9525416898065957\n"
     ]
    }
   ],
   "source": [
    "from sklearn import metrics\n",
    "\n",
    "# For precision of each class individually use average= None\n",
    "precision = metrics.precision_score(y_test, predictions, average='macro')\n",
    "print('Precision is:',precision)"
   ]
  },
  {
   "cell_type": "code",
   "execution_count": 17,
   "id": "based-model",
   "metadata": {},
   "outputs": [
    {
     "name": "stdout",
     "output_type": "stream",
     "text": [
      "Recall is: 0.9519279272592186\n"
     ]
    }
   ],
   "source": [
    "from sklearn import metrics\n",
    "\n",
    "# For recall of each class individually use average= None\n",
    "recall = metrics.recall_score(y_test, predictions, average='macro')\n",
    "print('Recall is:',recall)"
   ]
  },
  {
   "cell_type": "code",
   "execution_count": 18,
   "id": "fuzzy-money",
   "metadata": {},
   "outputs": [
    {
     "name": "stdout",
     "output_type": "stream",
     "text": [
      "AUC score is: 0.9732447578709469\n"
     ]
    }
   ],
   "source": [
    "from sklearn import metrics\n",
    "from sklearn.preprocessing import LabelBinarizer\n",
    "def multiclass_roc_auc_score(y_test, y_pred, average=\"macro\"):\n",
    "        lb = LabelBinarizer()\n",
    "        lb.fit(y_test)\n",
    "        y_test = lb.transform(y_test)\n",
    "        y_pred = lb.transform(y_pred)\n",
    "        return metrics.roc_auc_score(y_test, y_pred, average=average)\n",
    "auc_score = multiclass_roc_auc_score(y_test, predictions)\n",
    "print('AUC score is:', auc_score)"
   ]
  },
  {
   "cell_type": "code",
   "execution_count": 19,
   "id": "spectacular-invasion",
   "metadata": {},
   "outputs": [
    {
     "name": "stdout",
     "output_type": "stream",
     "text": [
      "F1 Score is: 0.9518965775741322\n"
     ]
    }
   ],
   "source": [
    "from sklearn import metrics\n",
    "\n",
    "# For recall of each class individually use average= None\n",
    "f1_score_value = metrics.f1_score(y_test, predictions, average='macro')\n",
    "print('F1 Score is:',f1_score_value)"
   ]
  },
  {
   "cell_type": "markdown",
   "id": "numeric-madrid",
   "metadata": {},
   "source": [
    "# SVM"
   ]
  },
  {
   "cell_type": "code",
   "execution_count": 20,
   "id": "delayed-attitude",
   "metadata": {},
   "outputs": [],
   "source": [
    "from sklearn import svm\n",
    "from sklearn import metrics"
   ]
  },
  {
   "cell_type": "code",
   "execution_count": 23,
   "id": "underlying-cigarette",
   "metadata": {},
   "outputs": [],
   "source": [
    "svm_linear = svm.SVC(kernel ='linear')"
   ]
  },
  {
   "cell_type": "code",
   "execution_count": 24,
   "id": "vulnerable-first",
   "metadata": {},
   "outputs": [
    {
     "data": {
      "text/plain": [
       "SVC(kernel='linear')"
      ]
     },
     "execution_count": 24,
     "metadata": {},
     "output_type": "execute_result"
    }
   ],
   "source": [
    "# fit\n",
    "svm_linear.fit(x_train, y_train)"
   ]
  },
  {
   "cell_type": "code",
   "execution_count": 25,
   "id": "genuine-cookie",
   "metadata": {},
   "outputs": [
    {
     "data": {
      "text/plain": [
       "array([2, 8, 2, 6, 6, 7, 1, 9, 8, 5])"
      ]
     },
     "execution_count": 25,
     "metadata": {},
     "output_type": "execute_result"
    }
   ],
   "source": [
    "# predict\n",
    "predictions = svm_linear.predict(x_test)\n",
    "predictions[:10]"
   ]
  },
  {
   "cell_type": "code",
   "execution_count": 26,
   "id": "decent-transport",
   "metadata": {},
   "outputs": [
    {
     "data": {
      "text/plain": [
       "array([[37,  0,  0,  0,  0,  0,  0,  0,  0,  0],\n",
       "       [ 0, 42,  0,  0,  0,  0,  0,  0,  1,  0],\n",
       "       [ 0,  0, 44,  0,  0,  0,  0,  0,  0,  0],\n",
       "       [ 0,  0,  0, 43,  0,  0,  0,  0,  1,  1],\n",
       "       [ 0,  0,  0,  0, 38,  0,  0,  0,  0,  0],\n",
       "       [ 0,  0,  0,  0,  0, 47,  0,  0,  0,  1],\n",
       "       [ 0,  1,  0,  0,  0,  0, 51,  0,  0,  0],\n",
       "       [ 0,  0,  0,  0,  1,  0,  0, 47,  0,  0],\n",
       "       [ 0,  3,  1,  0,  0,  0,  0,  0, 44,  0],\n",
       "       [ 0,  0,  0,  1,  0,  1,  0,  0,  1, 44]], dtype=int64)"
      ]
     },
     "execution_count": 26,
     "metadata": {},
     "output_type": "execute_result"
    }
   ],
   "source": [
    "# evaluation: accuracy\n",
    "# C(i, j) represents the number of points known to be in class i \n",
    "# but predicted to be in class j\n",
    "confusion = metrics.confusion_matrix(y_true = y_test, y_pred = predictions)\n",
    "confusion"
   ]
  },
  {
   "cell_type": "code",
   "execution_count": 27,
   "id": "differential-philip",
   "metadata": {},
   "outputs": [
    {
     "data": {
      "text/plain": [
       "0.9711111111111111"
      ]
     },
     "execution_count": 27,
     "metadata": {},
     "output_type": "execute_result"
    }
   ],
   "source": [
    "metrics.accuracy_score(y_true=y_test, y_pred=predictions)"
   ]
  },
  {
   "cell_type": "code",
   "execution_count": 28,
   "id": "waiting-class",
   "metadata": {},
   "outputs": [
    {
     "name": "stdout",
     "output_type": "stream",
     "text": [
      "              precision    recall  f1-score   support\n",
      "\n",
      "           0       1.00      1.00      1.00        37\n",
      "           1       0.91      0.98      0.94        43\n",
      "           2       0.98      1.00      0.99        44\n",
      "           3       0.98      0.96      0.97        45\n",
      "           4       0.97      1.00      0.99        38\n",
      "           5       0.98      0.98      0.98        48\n",
      "           6       1.00      0.98      0.99        52\n",
      "           7       1.00      0.98      0.99        48\n",
      "           8       0.94      0.92      0.93        48\n",
      "           9       0.96      0.94      0.95        47\n",
      "\n",
      "    accuracy                           0.97       450\n",
      "   macro avg       0.97      0.97      0.97       450\n",
      "weighted avg       0.97      0.97      0.97       450\n",
      "\n"
     ]
    }
   ],
   "source": [
    "class_wise = metrics.classification_report(y_true=y_test, y_pred=predictions)\n",
    "print(class_wise)"
   ]
  },
  {
   "cell_type": "code",
   "execution_count": 29,
   "id": "processed-climb",
   "metadata": {},
   "outputs": [
    {
     "data": {
      "text/plain": [
       "SVC()"
      ]
     },
     "execution_count": 29,
     "metadata": {},
     "output_type": "execute_result"
    }
   ],
   "source": [
    "# rbf kernel with other hyperparameters kept to default \n",
    "svm_rbf = svm.SVC(kernel='rbf')\n",
    "svm_rbf.fit(x_train, y_train)"
   ]
  },
  {
   "cell_type": "code",
   "execution_count": 30,
   "id": "acute-shade",
   "metadata": {},
   "outputs": [
    {
     "name": "stdout",
     "output_type": "stream",
     "text": [
      "0.9911111111111112\n"
     ]
    }
   ],
   "source": [
    "# predict\n",
    "predictions = svm_rbf.predict(x_test)\n",
    "\n",
    "# accuracy \n",
    "print(metrics.accuracy_score(y_true=y_test, y_pred=predictions))"
   ]
  },
  {
   "cell_type": "code",
   "execution_count": 31,
   "id": "framed-pencil",
   "metadata": {},
   "outputs": [
    {
     "data": {
      "text/plain": [
       "GridSearchCV(estimator=SVC(),\n",
       "             param_grid={'C': [1, 10, 100], 'gamma': [0.01, 0.001, 0.0001]},\n",
       "             scoring='accuracy')"
      ]
     },
     "execution_count": 31,
     "metadata": {},
     "output_type": "execute_result"
    }
   ],
   "source": [
    "# conduct (grid search) cross-validation to find the optimal values \n",
    "# of cost C and the choice of kernel\n",
    "\n",
    "from sklearn.model_selection import GridSearchCV\n",
    "\n",
    "parameters = {'C':[1, 10, 100], \n",
    "             'gamma': [1e-2, 1e-3, 1e-4]}\n",
    "\n",
    "# instantiate a model \n",
    "svc_grid_search = svm.SVC(kernel=\"rbf\")\n",
    "\n",
    "# create a classifier to perform grid search\n",
    "clf = GridSearchCV(svc_grid_search, param_grid=parameters, scoring='accuracy')\n",
    "\n",
    "# fit\n",
    "clf.fit(x_train, y_train)"
   ]
  },
  {
   "cell_type": "code",
   "execution_count": 33,
   "id": "urban-calibration",
   "metadata": {},
   "outputs": [
    {
     "data": {
      "text/html": [
       "<div>\n",
       "<style scoped>\n",
       "    .dataframe tbody tr th:only-of-type {\n",
       "        vertical-align: middle;\n",
       "    }\n",
       "\n",
       "    .dataframe tbody tr th {\n",
       "        vertical-align: top;\n",
       "    }\n",
       "\n",
       "    .dataframe thead th {\n",
       "        text-align: right;\n",
       "    }\n",
       "</style>\n",
       "<table border=\"1\" class=\"dataframe\">\n",
       "  <thead>\n",
       "    <tr style=\"text-align: right;\">\n",
       "      <th></th>\n",
       "      <th>mean_fit_time</th>\n",
       "      <th>std_fit_time</th>\n",
       "      <th>mean_score_time</th>\n",
       "      <th>std_score_time</th>\n",
       "      <th>param_C</th>\n",
       "      <th>param_gamma</th>\n",
       "      <th>params</th>\n",
       "      <th>split0_test_score</th>\n",
       "      <th>split1_test_score</th>\n",
       "      <th>split2_test_score</th>\n",
       "      <th>split3_test_score</th>\n",
       "      <th>split4_test_score</th>\n",
       "      <th>mean_test_score</th>\n",
       "      <th>std_test_score</th>\n",
       "      <th>rank_test_score</th>\n",
       "    </tr>\n",
       "  </thead>\n",
       "  <tbody>\n",
       "    <tr>\n",
       "      <th>0</th>\n",
       "      <td>0.672129</td>\n",
       "      <td>0.166909</td>\n",
       "      <td>0.066736</td>\n",
       "      <td>0.014178</td>\n",
       "      <td>1</td>\n",
       "      <td>0.01</td>\n",
       "      <td>{'C': 1, 'gamma': 0.01}</td>\n",
       "      <td>0.866667</td>\n",
       "      <td>0.822222</td>\n",
       "      <td>0.836431</td>\n",
       "      <td>0.762082</td>\n",
       "      <td>0.847584</td>\n",
       "      <td>0.826997</td>\n",
       "      <td>0.035562</td>\n",
       "      <td>9</td>\n",
       "    </tr>\n",
       "    <tr>\n",
       "      <th>1</th>\n",
       "      <td>0.178646</td>\n",
       "      <td>0.031596</td>\n",
       "      <td>0.040176</td>\n",
       "      <td>0.007208</td>\n",
       "      <td>1</td>\n",
       "      <td>0.001</td>\n",
       "      <td>{'C': 1, 'gamma': 0.001}</td>\n",
       "      <td>0.992593</td>\n",
       "      <td>0.992593</td>\n",
       "      <td>0.988848</td>\n",
       "      <td>0.985130</td>\n",
       "      <td>0.996283</td>\n",
       "      <td>0.991089</td>\n",
       "      <td>0.003795</td>\n",
       "      <td>3</td>\n",
       "    </tr>\n",
       "    <tr>\n",
       "      <th>2</th>\n",
       "      <td>0.137476</td>\n",
       "      <td>0.007620</td>\n",
       "      <td>0.040229</td>\n",
       "      <td>0.010930</td>\n",
       "      <td>1</td>\n",
       "      <td>0.0001</td>\n",
       "      <td>{'C': 1, 'gamma': 0.0001}</td>\n",
       "      <td>0.966667</td>\n",
       "      <td>0.974074</td>\n",
       "      <td>0.962825</td>\n",
       "      <td>0.970260</td>\n",
       "      <td>0.981413</td>\n",
       "      <td>0.971048</td>\n",
       "      <td>0.006388</td>\n",
       "      <td>6</td>\n",
       "    </tr>\n",
       "    <tr>\n",
       "      <th>3</th>\n",
       "      <td>0.627274</td>\n",
       "      <td>0.058949</td>\n",
       "      <td>0.079520</td>\n",
       "      <td>0.014665</td>\n",
       "      <td>10</td>\n",
       "      <td>0.01</td>\n",
       "      <td>{'C': 10, 'gamma': 0.01}</td>\n",
       "      <td>0.877778</td>\n",
       "      <td>0.829630</td>\n",
       "      <td>0.847584</td>\n",
       "      <td>0.784387</td>\n",
       "      <td>0.858736</td>\n",
       "      <td>0.839623</td>\n",
       "      <td>0.031735</td>\n",
       "      <td>7</td>\n",
       "    </tr>\n",
       "    <tr>\n",
       "      <th>4</th>\n",
       "      <td>0.177792</td>\n",
       "      <td>0.046048</td>\n",
       "      <td>0.034023</td>\n",
       "      <td>0.007642</td>\n",
       "      <td>10</td>\n",
       "      <td>0.001</td>\n",
       "      <td>{'C': 10, 'gamma': 0.001}</td>\n",
       "      <td>0.988889</td>\n",
       "      <td>0.992593</td>\n",
       "      <td>0.992565</td>\n",
       "      <td>0.988848</td>\n",
       "      <td>0.996283</td>\n",
       "      <td>0.991835</td>\n",
       "      <td>0.002775</td>\n",
       "      <td>1</td>\n",
       "    </tr>\n",
       "    <tr>\n",
       "      <th>5</th>\n",
       "      <td>0.071605</td>\n",
       "      <td>0.001651</td>\n",
       "      <td>0.021692</td>\n",
       "      <td>0.002043</td>\n",
       "      <td>10</td>\n",
       "      <td>0.0001</td>\n",
       "      <td>{'C': 10, 'gamma': 0.0001}</td>\n",
       "      <td>0.985185</td>\n",
       "      <td>0.992593</td>\n",
       "      <td>0.981413</td>\n",
       "      <td>0.981413</td>\n",
       "      <td>0.996283</td>\n",
       "      <td>0.987377</td>\n",
       "      <td>0.006041</td>\n",
       "      <td>5</td>\n",
       "    </tr>\n",
       "    <tr>\n",
       "      <th>6</th>\n",
       "      <td>0.546288</td>\n",
       "      <td>0.089365</td>\n",
       "      <td>0.061661</td>\n",
       "      <td>0.007582</td>\n",
       "      <td>100</td>\n",
       "      <td>0.01</td>\n",
       "      <td>{'C': 100, 'gamma': 0.01}</td>\n",
       "      <td>0.877778</td>\n",
       "      <td>0.829630</td>\n",
       "      <td>0.847584</td>\n",
       "      <td>0.784387</td>\n",
       "      <td>0.858736</td>\n",
       "      <td>0.839623</td>\n",
       "      <td>0.031735</td>\n",
       "      <td>7</td>\n",
       "    </tr>\n",
       "    <tr>\n",
       "      <th>7</th>\n",
       "      <td>0.146111</td>\n",
       "      <td>0.003550</td>\n",
       "      <td>0.032299</td>\n",
       "      <td>0.000516</td>\n",
       "      <td>100</td>\n",
       "      <td>0.001</td>\n",
       "      <td>{'C': 100, 'gamma': 0.001}</td>\n",
       "      <td>0.988889</td>\n",
       "      <td>0.992593</td>\n",
       "      <td>0.992565</td>\n",
       "      <td>0.988848</td>\n",
       "      <td>0.996283</td>\n",
       "      <td>0.991835</td>\n",
       "      <td>0.002775</td>\n",
       "      <td>1</td>\n",
       "    </tr>\n",
       "    <tr>\n",
       "      <th>8</th>\n",
       "      <td>0.072275</td>\n",
       "      <td>0.003163</td>\n",
       "      <td>0.020934</td>\n",
       "      <td>0.000581</td>\n",
       "      <td>100</td>\n",
       "      <td>0.0001</td>\n",
       "      <td>{'C': 100, 'gamma': 0.0001}</td>\n",
       "      <td>0.985185</td>\n",
       "      <td>0.988889</td>\n",
       "      <td>0.981413</td>\n",
       "      <td>0.985130</td>\n",
       "      <td>1.000000</td>\n",
       "      <td>0.988123</td>\n",
       "      <td>0.006392</td>\n",
       "      <td>4</td>\n",
       "    </tr>\n",
       "  </tbody>\n",
       "</table>\n",
       "</div>"
      ],
      "text/plain": [
       "   mean_fit_time  std_fit_time  mean_score_time  std_score_time param_C  \\\n",
       "0       0.672129      0.166909         0.066736        0.014178       1   \n",
       "1       0.178646      0.031596         0.040176        0.007208       1   \n",
       "2       0.137476      0.007620         0.040229        0.010930       1   \n",
       "3       0.627274      0.058949         0.079520        0.014665      10   \n",
       "4       0.177792      0.046048         0.034023        0.007642      10   \n",
       "5       0.071605      0.001651         0.021692        0.002043      10   \n",
       "6       0.546288      0.089365         0.061661        0.007582     100   \n",
       "7       0.146111      0.003550         0.032299        0.000516     100   \n",
       "8       0.072275      0.003163         0.020934        0.000581     100   \n",
       "\n",
       "  param_gamma                       params  split0_test_score  \\\n",
       "0        0.01      {'C': 1, 'gamma': 0.01}           0.866667   \n",
       "1       0.001     {'C': 1, 'gamma': 0.001}           0.992593   \n",
       "2      0.0001    {'C': 1, 'gamma': 0.0001}           0.966667   \n",
       "3        0.01     {'C': 10, 'gamma': 0.01}           0.877778   \n",
       "4       0.001    {'C': 10, 'gamma': 0.001}           0.988889   \n",
       "5      0.0001   {'C': 10, 'gamma': 0.0001}           0.985185   \n",
       "6        0.01    {'C': 100, 'gamma': 0.01}           0.877778   \n",
       "7       0.001   {'C': 100, 'gamma': 0.001}           0.988889   \n",
       "8      0.0001  {'C': 100, 'gamma': 0.0001}           0.985185   \n",
       "\n",
       "   split1_test_score  split2_test_score  split3_test_score  split4_test_score  \\\n",
       "0           0.822222           0.836431           0.762082           0.847584   \n",
       "1           0.992593           0.988848           0.985130           0.996283   \n",
       "2           0.974074           0.962825           0.970260           0.981413   \n",
       "3           0.829630           0.847584           0.784387           0.858736   \n",
       "4           0.992593           0.992565           0.988848           0.996283   \n",
       "5           0.992593           0.981413           0.981413           0.996283   \n",
       "6           0.829630           0.847584           0.784387           0.858736   \n",
       "7           0.992593           0.992565           0.988848           0.996283   \n",
       "8           0.988889           0.981413           0.985130           1.000000   \n",
       "\n",
       "   mean_test_score  std_test_score  rank_test_score  \n",
       "0         0.826997        0.035562                9  \n",
       "1         0.991089        0.003795                3  \n",
       "2         0.971048        0.006388                6  \n",
       "3         0.839623        0.031735                7  \n",
       "4         0.991835        0.002775                1  \n",
       "5         0.987377        0.006041                5  \n",
       "6         0.839623        0.031735                7  \n",
       "7         0.991835        0.002775                1  \n",
       "8         0.988123        0.006392                4  "
      ]
     },
     "execution_count": 33,
     "metadata": {},
     "output_type": "execute_result"
    }
   ],
   "source": [
    "# results\n",
    "import pandas as pd\n",
    "cv_results = pd.DataFrame(clf.cv_results_)\n",
    "cv_results"
   ]
  },
  {
   "cell_type": "code",
   "execution_count": 34,
   "id": "incoming-sunday",
   "metadata": {},
   "outputs": [
    {
     "data": {
      "text/plain": [
       "SVC(C=1, gamma=0.001)"
      ]
     },
     "execution_count": 34,
     "metadata": {},
     "output_type": "execute_result"
    }
   ],
   "source": [
    "# optimal hyperparameters\n",
    "best_C = 1\n",
    "best_gamma = 0.001\n",
    "\n",
    "# model\n",
    "svm_final = svm.SVC(kernel='rbf', C=best_C, gamma=best_gamma)\n",
    "\n",
    "# fit\n",
    "svm_final.fit(x_train, y_train)"
   ]
  },
  {
   "cell_type": "code",
   "execution_count": 35,
   "id": "powered-theater",
   "metadata": {},
   "outputs": [],
   "source": [
    "# predict\n",
    "predictions = svm_final.predict(x_test)"
   ]
  },
  {
   "cell_type": "code",
   "execution_count": 36,
   "id": "careful-latino",
   "metadata": {},
   "outputs": [
    {
     "name": "stdout",
     "output_type": "stream",
     "text": [
      "0.9955555555555555 \n",
      "\n",
      "[[37  0  0  0  0  0  0  0  0  0]\n",
      " [ 0 43  0  0  0  0  0  0  0  0]\n",
      " [ 0  0 44  0  0  0  0  0  0  0]\n",
      " [ 0  0  0 45  0  0  0  0  0  0]\n",
      " [ 0  0  0  0 38  0  0  0  0  0]\n",
      " [ 0  0  0  0  0 47  0  0  0  1]\n",
      " [ 0  0  0  0  0  0 52  0  0  0]\n",
      " [ 0  0  0  0  0  0  0 48  0  0]\n",
      " [ 0  0  0  0  0  0  0  0 48  0]\n",
      " [ 0  0  0  0  0  1  0  0  0 46]]\n"
     ]
    }
   ],
   "source": [
    "# evaluation: CM \n",
    "confusion = metrics.confusion_matrix(y_true = y_test, y_pred = predictions)\n",
    "\n",
    "# measure accuracy\n",
    "test_accuracy = metrics.accuracy_score(y_true=y_test, y_pred=predictions)\n",
    "\n",
    "print(test_accuracy, \"\\n\")\n",
    "print(confusion)\n"
   ]
  },
  {
   "cell_type": "markdown",
   "id": "talented-ceremony",
   "metadata": {},
   "source": [
    "## Decision Tree"
   ]
  },
  {
   "cell_type": "code",
   "execution_count": 37,
   "id": "controlling-buyer",
   "metadata": {},
   "outputs": [],
   "source": [
    "from sklearn.tree import DecisionTreeClassifier"
   ]
  },
  {
   "cell_type": "code",
   "execution_count": 39,
   "id": "utility-tourist",
   "metadata": {},
   "outputs": [
    {
     "data": {
      "text/plain": [
       "DecisionTreeClassifier(max_depth=3)"
      ]
     },
     "execution_count": 39,
     "metadata": {},
     "output_type": "execute_result"
    }
   ],
   "source": [
    "dt = DecisionTreeClassifier(max_depth=3)\n",
    "dt.fit(x_train, y_train)"
   ]
  },
  {
   "cell_type": "code",
   "execution_count": 49,
   "id": "political-column",
   "metadata": {},
   "outputs": [],
   "source": [
    "y_train_pred = dt.predict(x_train)\n",
    "y_test_pred = dt.predict(x_test)"
   ]
  },
  {
   "cell_type": "code",
   "execution_count": 51,
   "id": "functional-reset",
   "metadata": {},
   "outputs": [],
   "source": [
    "from sklearn.metrics import confusion_matrix, accuracy_score"
   ]
  },
  {
   "cell_type": "code",
   "execution_count": 52,
   "id": "handed-conclusion",
   "metadata": {},
   "outputs": [
    {
     "name": "stdout",
     "output_type": "stream",
     "text": [
      "0.48775055679287305\n"
     ]
    },
    {
     "data": {
      "text/plain": [
       "array([[136,   0,   0,   4,   0,   1,   0,   0,   0,   0],\n",
       "       [  0,   0,   0, 102,   0,  24,   5,   8,   0,   0],\n",
       "       [  0,   0,   0,  90,   2,  30,   9,   2,   0,   0],\n",
       "       [  0,   0,   0, 123,   0,  10,   0,   4,   0,   1],\n",
       "       [  0,   0,   0,  96,   5,   6,  22,  14,   0,   0],\n",
       "       [  0,   0,   0,   5,   4, 118,   3,   3,   0,   1],\n",
       "       [  1,   0,   0,   2,   4,   2, 120,   0,   0,   0],\n",
       "       [  0,   0,   0,  16,   0,   3,   0, 112,   0,   0],\n",
       "       [  3,   0,   0, 116,   0,   3,   0,   4,   0,   0],\n",
       "       [  0,   0,   0,  79,   0,   0,   0,  11,   0,  43]], dtype=int64)"
      ]
     },
     "execution_count": 52,
     "metadata": {},
     "output_type": "execute_result"
    }
   ],
   "source": [
    "print(accuracy_score(y_train, y_train_pred))\n",
    "confusion_matrix(y_train, y_train_pred)"
   ]
  },
  {
   "cell_type": "code",
   "execution_count": 53,
   "id": "suburban-density",
   "metadata": {},
   "outputs": [
    {
     "name": "stdout",
     "output_type": "stream",
     "text": [
      "0.46\n"
     ]
    },
    {
     "data": {
      "text/plain": [
       "array([[33,  0,  0,  0,  1,  1,  0,  0,  0,  2],\n",
       "       [ 0,  0,  0, 28,  0, 11,  3,  1,  0,  0],\n",
       "       [ 1,  0,  0, 35,  0,  6,  2,  0,  0,  0],\n",
       "       [ 0,  0,  0, 38,  0,  5,  0,  2,  0,  0],\n",
       "       [ 1,  0,  0, 25,  0,  1,  4,  7,  0,  0],\n",
       "       [ 0,  0,  0,  3,  1, 42,  0,  1,  0,  1],\n",
       "       [ 0,  0,  0,  2,  0,  1, 49,  0,  0,  0],\n",
       "       [ 0,  0,  0, 12,  0,  2,  1, 33,  0,  0],\n",
       "       [ 0,  0,  0, 47,  0,  0,  0,  1,  0,  0],\n",
       "       [ 0,  0,  0, 29,  0,  3,  0,  3,  0, 12]], dtype=int64)"
      ]
     },
     "execution_count": 53,
     "metadata": {},
     "output_type": "execute_result"
    }
   ],
   "source": [
    "print(accuracy_score(y_test, y_test_pred))\n",
    "confusion_matrix(y_test, y_test_pred)"
   ]
  },
  {
   "cell_type": "markdown",
   "id": "raising-hughes",
   "metadata": {},
   "source": [
    "Using hyper parameter tuning"
   ]
  },
  {
   "cell_type": "code",
   "execution_count": 54,
   "id": "chronic-archive",
   "metadata": {},
   "outputs": [],
   "source": [
    "from sklearn.model_selection import GridSearchCV"
   ]
  },
  {
   "cell_type": "code",
   "execution_count": 55,
   "id": "unusual-buddy",
   "metadata": {},
   "outputs": [],
   "source": []
  },
  {
   "cell_type": "code",
   "execution_count": 56,
   "id": "nasty-confusion",
   "metadata": {},
   "outputs": [],
   "source": [
    "# Instantiate the grid search model\n",
    "grid_search = GridSearchCV(estimator=dt, \n",
    "                           param_grid=params, \n",
    "                           cv=4, n_jobs=-1, verbose=1, scoring = \"accuracy\")"
   ]
  },
  {
   "cell_type": "code",
   "execution_count": 58,
   "id": "absent-message",
   "metadata": {},
   "outputs": [
    {
     "name": "stdout",
     "output_type": "stream",
     "text": [
      "Fitting 4 folds for each of 50 candidates, totalling 200 fits\n"
     ]
    },
    {
     "name": "stderr",
     "output_type": "stream",
     "text": [
      "[Parallel(n_jobs=-1)]: Using backend LokyBackend with 8 concurrent workers.\n",
      "[Parallel(n_jobs=-1)]: Done  34 tasks      | elapsed:    3.5s\n"
     ]
    },
    {
     "name": "stdout",
     "output_type": "stream",
     "text": [
      "Wall time: 4.29 s\n"
     ]
    },
    {
     "name": "stderr",
     "output_type": "stream",
     "text": [
      "[Parallel(n_jobs=-1)]: Done 200 out of 200 | elapsed:    4.1s finished\n"
     ]
    },
    {
     "data": {
      "text/plain": [
       "GridSearchCV(cv=4, estimator=DecisionTreeClassifier(max_depth=3), n_jobs=-1,\n",
       "             param_grid={'criterion': ['gini', 'entropy'],\n",
       "                         'max_depth': [2, 3, 5, 10, 20],\n",
       "                         'min_samples_leaf': [5, 10, 20, 50, 100]},\n",
       "             scoring='accuracy', verbose=1)"
      ]
     },
     "execution_count": 58,
     "metadata": {},
     "output_type": "execute_result"
    }
   ],
   "source": [
    "%%time\n",
    "grid_search.fit(x_train, y_train)"
   ]
  },
  {
   "cell_type": "code",
   "execution_count": 59,
   "id": "typical-saskatchewan",
   "metadata": {},
   "outputs": [
    {
     "data": {
      "text/html": [
       "<div>\n",
       "<style scoped>\n",
       "    .dataframe tbody tr th:only-of-type {\n",
       "        vertical-align: middle;\n",
       "    }\n",
       "\n",
       "    .dataframe tbody tr th {\n",
       "        vertical-align: top;\n",
       "    }\n",
       "\n",
       "    .dataframe thead th {\n",
       "        text-align: right;\n",
       "    }\n",
       "</style>\n",
       "<table border=\"1\" class=\"dataframe\">\n",
       "  <thead>\n",
       "    <tr style=\"text-align: right;\">\n",
       "      <th></th>\n",
       "      <th>mean_fit_time</th>\n",
       "      <th>std_fit_time</th>\n",
       "      <th>mean_score_time</th>\n",
       "      <th>std_score_time</th>\n",
       "      <th>param_criterion</th>\n",
       "      <th>param_max_depth</th>\n",
       "      <th>param_min_samples_leaf</th>\n",
       "      <th>params</th>\n",
       "      <th>split0_test_score</th>\n",
       "      <th>split1_test_score</th>\n",
       "      <th>split2_test_score</th>\n",
       "      <th>split3_test_score</th>\n",
       "      <th>mean_test_score</th>\n",
       "      <th>std_test_score</th>\n",
       "      <th>rank_test_score</th>\n",
       "    </tr>\n",
       "  </thead>\n",
       "  <tbody>\n",
       "    <tr>\n",
       "      <th>0</th>\n",
       "      <td>0.010255</td>\n",
       "      <td>0.000419</td>\n",
       "      <td>0.001764</td>\n",
       "      <td>0.000311</td>\n",
       "      <td>gini</td>\n",
       "      <td>2</td>\n",
       "      <td>5</td>\n",
       "      <td>{'criterion': 'gini', 'max_depth': 2, 'min_sam...</td>\n",
       "      <td>0.320475</td>\n",
       "      <td>0.326409</td>\n",
       "      <td>0.332344</td>\n",
       "      <td>0.306548</td>\n",
       "      <td>0.321444</td>\n",
       "      <td>0.009570</td>\n",
       "      <td>46</td>\n",
       "    </tr>\n",
       "    <tr>\n",
       "      <th>1</th>\n",
       "      <td>0.010285</td>\n",
       "      <td>0.000142</td>\n",
       "      <td>0.001246</td>\n",
       "      <td>0.000430</td>\n",
       "      <td>gini</td>\n",
       "      <td>2</td>\n",
       "      <td>10</td>\n",
       "      <td>{'criterion': 'gini', 'max_depth': 2, 'min_sam...</td>\n",
       "      <td>0.320475</td>\n",
       "      <td>0.326409</td>\n",
       "      <td>0.332344</td>\n",
       "      <td>0.306548</td>\n",
       "      <td>0.321444</td>\n",
       "      <td>0.009570</td>\n",
       "      <td>46</td>\n",
       "    </tr>\n",
       "    <tr>\n",
       "      <th>2</th>\n",
       "      <td>0.010171</td>\n",
       "      <td>0.000430</td>\n",
       "      <td>0.000957</td>\n",
       "      <td>0.000426</td>\n",
       "      <td>gini</td>\n",
       "      <td>2</td>\n",
       "      <td>20</td>\n",
       "      <td>{'criterion': 'gini', 'max_depth': 2, 'min_sam...</td>\n",
       "      <td>0.320475</td>\n",
       "      <td>0.326409</td>\n",
       "      <td>0.332344</td>\n",
       "      <td>0.306548</td>\n",
       "      <td>0.321444</td>\n",
       "      <td>0.009570</td>\n",
       "      <td>46</td>\n",
       "    </tr>\n",
       "    <tr>\n",
       "      <th>3</th>\n",
       "      <td>0.009797</td>\n",
       "      <td>0.000280</td>\n",
       "      <td>0.001261</td>\n",
       "      <td>0.000425</td>\n",
       "      <td>gini</td>\n",
       "      <td>2</td>\n",
       "      <td>50</td>\n",
       "      <td>{'criterion': 'gini', 'max_depth': 2, 'min_sam...</td>\n",
       "      <td>0.320475</td>\n",
       "      <td>0.323442</td>\n",
       "      <td>0.335312</td>\n",
       "      <td>0.306548</td>\n",
       "      <td>0.321444</td>\n",
       "      <td>0.010236</td>\n",
       "      <td>46</td>\n",
       "    </tr>\n",
       "    <tr>\n",
       "      <th>4</th>\n",
       "      <td>0.008535</td>\n",
       "      <td>0.000671</td>\n",
       "      <td>0.001035</td>\n",
       "      <td>0.000197</td>\n",
       "      <td>gini</td>\n",
       "      <td>2</td>\n",
       "      <td>100</td>\n",
       "      <td>{'criterion': 'gini', 'max_depth': 2, 'min_sam...</td>\n",
       "      <td>0.293769</td>\n",
       "      <td>0.299703</td>\n",
       "      <td>0.299703</td>\n",
       "      <td>0.282738</td>\n",
       "      <td>0.293978</td>\n",
       "      <td>0.006927</td>\n",
       "      <td>50</td>\n",
       "    </tr>\n",
       "  </tbody>\n",
       "</table>\n",
       "</div>"
      ],
      "text/plain": [
       "   mean_fit_time  std_fit_time  mean_score_time  std_score_time  \\\n",
       "0       0.010255      0.000419         0.001764        0.000311   \n",
       "1       0.010285      0.000142         0.001246        0.000430   \n",
       "2       0.010171      0.000430         0.000957        0.000426   \n",
       "3       0.009797      0.000280         0.001261        0.000425   \n",
       "4       0.008535      0.000671         0.001035        0.000197   \n",
       "\n",
       "  param_criterion param_max_depth param_min_samples_leaf  \\\n",
       "0            gini               2                      5   \n",
       "1            gini               2                     10   \n",
       "2            gini               2                     20   \n",
       "3            gini               2                     50   \n",
       "4            gini               2                    100   \n",
       "\n",
       "                                              params  split0_test_score  \\\n",
       "0  {'criterion': 'gini', 'max_depth': 2, 'min_sam...           0.320475   \n",
       "1  {'criterion': 'gini', 'max_depth': 2, 'min_sam...           0.320475   \n",
       "2  {'criterion': 'gini', 'max_depth': 2, 'min_sam...           0.320475   \n",
       "3  {'criterion': 'gini', 'max_depth': 2, 'min_sam...           0.320475   \n",
       "4  {'criterion': 'gini', 'max_depth': 2, 'min_sam...           0.293769   \n",
       "\n",
       "   split1_test_score  split2_test_score  split3_test_score  mean_test_score  \\\n",
       "0           0.326409           0.332344           0.306548         0.321444   \n",
       "1           0.326409           0.332344           0.306548         0.321444   \n",
       "2           0.326409           0.332344           0.306548         0.321444   \n",
       "3           0.323442           0.335312           0.306548         0.321444   \n",
       "4           0.299703           0.299703           0.282738         0.293978   \n",
       "\n",
       "   std_test_score  rank_test_score  \n",
       "0        0.009570               46  \n",
       "1        0.009570               46  \n",
       "2        0.009570               46  \n",
       "3        0.010236               46  \n",
       "4        0.006927               50  "
      ]
     },
     "execution_count": 59,
     "metadata": {},
     "output_type": "execute_result"
    }
   ],
   "source": [
    "score_df = pd.DataFrame(grid_search.cv_results_)\n",
    "score_df.head()"
   ]
  },
  {
   "cell_type": "code",
   "execution_count": 60,
   "id": "selected-philadelphia",
   "metadata": {},
   "outputs": [
    {
     "data": {
      "text/html": [
       "<div>\n",
       "<style scoped>\n",
       "    .dataframe tbody tr th:only-of-type {\n",
       "        vertical-align: middle;\n",
       "    }\n",
       "\n",
       "    .dataframe tbody tr th {\n",
       "        vertical-align: top;\n",
       "    }\n",
       "\n",
       "    .dataframe thead th {\n",
       "        text-align: right;\n",
       "    }\n",
       "</style>\n",
       "<table border=\"1\" class=\"dataframe\">\n",
       "  <thead>\n",
       "    <tr style=\"text-align: right;\">\n",
       "      <th></th>\n",
       "      <th>mean_fit_time</th>\n",
       "      <th>std_fit_time</th>\n",
       "      <th>mean_score_time</th>\n",
       "      <th>std_score_time</th>\n",
       "      <th>param_criterion</th>\n",
       "      <th>param_max_depth</th>\n",
       "      <th>param_min_samples_leaf</th>\n",
       "      <th>params</th>\n",
       "      <th>split0_test_score</th>\n",
       "      <th>split1_test_score</th>\n",
       "      <th>split2_test_score</th>\n",
       "      <th>split3_test_score</th>\n",
       "      <th>mean_test_score</th>\n",
       "      <th>std_test_score</th>\n",
       "      <th>rank_test_score</th>\n",
       "    </tr>\n",
       "  </thead>\n",
       "  <tbody>\n",
       "    <tr>\n",
       "      <th>40</th>\n",
       "      <td>0.036992</td>\n",
       "      <td>0.002458</td>\n",
       "      <td>0.001334</td>\n",
       "      <td>3.775451e-04</td>\n",
       "      <td>entropy</td>\n",
       "      <td>10</td>\n",
       "      <td>5</td>\n",
       "      <td>{'criterion': 'entropy', 'max_depth': 10, 'min...</td>\n",
       "      <td>0.836795</td>\n",
       "      <td>0.830861</td>\n",
       "      <td>0.807122</td>\n",
       "      <td>0.818452</td>\n",
       "      <td>0.823307</td>\n",
       "      <td>0.011451</td>\n",
       "      <td>1</td>\n",
       "    </tr>\n",
       "    <tr>\n",
       "      <th>20</th>\n",
       "      <td>0.025078</td>\n",
       "      <td>0.000529</td>\n",
       "      <td>0.001282</td>\n",
       "      <td>4.158983e-04</td>\n",
       "      <td>gini</td>\n",
       "      <td>20</td>\n",
       "      <td>5</td>\n",
       "      <td>{'criterion': 'gini', 'max_depth': 20, 'min_sa...</td>\n",
       "      <td>0.839763</td>\n",
       "      <td>0.851632</td>\n",
       "      <td>0.786350</td>\n",
       "      <td>0.815476</td>\n",
       "      <td>0.823305</td>\n",
       "      <td>0.025001</td>\n",
       "      <td>2</td>\n",
       "    </tr>\n",
       "    <tr>\n",
       "      <th>15</th>\n",
       "      <td>0.029530</td>\n",
       "      <td>0.004128</td>\n",
       "      <td>0.000997</td>\n",
       "      <td>2.920019e-07</td>\n",
       "      <td>gini</td>\n",
       "      <td>10</td>\n",
       "      <td>5</td>\n",
       "      <td>{'criterion': 'gini', 'max_depth': 10, 'min_sa...</td>\n",
       "      <td>0.839763</td>\n",
       "      <td>0.851632</td>\n",
       "      <td>0.780415</td>\n",
       "      <td>0.809524</td>\n",
       "      <td>0.820333</td>\n",
       "      <td>0.027692</td>\n",
       "      <td>3</td>\n",
       "    </tr>\n",
       "    <tr>\n",
       "      <th>45</th>\n",
       "      <td>0.035161</td>\n",
       "      <td>0.001115</td>\n",
       "      <td>0.001239</td>\n",
       "      <td>2.421414e-04</td>\n",
       "      <td>entropy</td>\n",
       "      <td>20</td>\n",
       "      <td>5</td>\n",
       "      <td>{'criterion': 'entropy', 'max_depth': 20, 'min...</td>\n",
       "      <td>0.827893</td>\n",
       "      <td>0.824926</td>\n",
       "      <td>0.798220</td>\n",
       "      <td>0.806548</td>\n",
       "      <td>0.814397</td>\n",
       "      <td>0.012413</td>\n",
       "      <td>4</td>\n",
       "    </tr>\n",
       "    <tr>\n",
       "      <th>21</th>\n",
       "      <td>0.023043</td>\n",
       "      <td>0.000524</td>\n",
       "      <td>0.000998</td>\n",
       "      <td>1.316710e-06</td>\n",
       "      <td>gini</td>\n",
       "      <td>20</td>\n",
       "      <td>10</td>\n",
       "      <td>{'criterion': 'gini', 'max_depth': 20, 'min_sa...</td>\n",
       "      <td>0.827893</td>\n",
       "      <td>0.813056</td>\n",
       "      <td>0.771513</td>\n",
       "      <td>0.764881</td>\n",
       "      <td>0.794336</td>\n",
       "      <td>0.026763</td>\n",
       "      <td>5</td>\n",
       "    </tr>\n",
       "  </tbody>\n",
       "</table>\n",
       "</div>"
      ],
      "text/plain": [
       "    mean_fit_time  std_fit_time  mean_score_time  std_score_time  \\\n",
       "40       0.036992      0.002458         0.001334    3.775451e-04   \n",
       "20       0.025078      0.000529         0.001282    4.158983e-04   \n",
       "15       0.029530      0.004128         0.000997    2.920019e-07   \n",
       "45       0.035161      0.001115         0.001239    2.421414e-04   \n",
       "21       0.023043      0.000524         0.000998    1.316710e-06   \n",
       "\n",
       "   param_criterion param_max_depth param_min_samples_leaf  \\\n",
       "40         entropy              10                      5   \n",
       "20            gini              20                      5   \n",
       "15            gini              10                      5   \n",
       "45         entropy              20                      5   \n",
       "21            gini              20                     10   \n",
       "\n",
       "                                               params  split0_test_score  \\\n",
       "40  {'criterion': 'entropy', 'max_depth': 10, 'min...           0.836795   \n",
       "20  {'criterion': 'gini', 'max_depth': 20, 'min_sa...           0.839763   \n",
       "15  {'criterion': 'gini', 'max_depth': 10, 'min_sa...           0.839763   \n",
       "45  {'criterion': 'entropy', 'max_depth': 20, 'min...           0.827893   \n",
       "21  {'criterion': 'gini', 'max_depth': 20, 'min_sa...           0.827893   \n",
       "\n",
       "    split1_test_score  split2_test_score  split3_test_score  mean_test_score  \\\n",
       "40           0.830861           0.807122           0.818452         0.823307   \n",
       "20           0.851632           0.786350           0.815476         0.823305   \n",
       "15           0.851632           0.780415           0.809524         0.820333   \n",
       "45           0.824926           0.798220           0.806548         0.814397   \n",
       "21           0.813056           0.771513           0.764881         0.794336   \n",
       "\n",
       "    std_test_score  rank_test_score  \n",
       "40        0.011451                1  \n",
       "20        0.025001                2  \n",
       "15        0.027692                3  \n",
       "45        0.012413                4  \n",
       "21        0.026763                5  "
      ]
     },
     "execution_count": 60,
     "metadata": {},
     "output_type": "execute_result"
    }
   ],
   "source": [
    "score_df.nlargest(5,\"mean_test_score\")"
   ]
  },
  {
   "cell_type": "code",
   "execution_count": 61,
   "id": "naked-ukraine",
   "metadata": {},
   "outputs": [
    {
     "data": {
      "text/plain": [
       "DecisionTreeClassifier(criterion='entropy', max_depth=10, min_samples_leaf=5)"
      ]
     },
     "execution_count": 61,
     "metadata": {},
     "output_type": "execute_result"
    }
   ],
   "source": [
    "grid_search.best_estimator_"
   ]
  },
  {
   "cell_type": "code",
   "execution_count": 62,
   "id": "fitting-lighter",
   "metadata": {},
   "outputs": [],
   "source": [
    "dt_best = grid_search.best_estimator_"
   ]
  },
  {
   "cell_type": "code",
   "execution_count": 65,
   "id": "specified-journalism",
   "metadata": {},
   "outputs": [
    {
     "name": "stdout",
     "output_type": "stream",
     "text": [
      "Train Accuracy : 0.9279881217520416\n",
      "Train Confusion Matrix:\n",
      "[[136   0   2   0   0   0   0   1   2   0]\n",
      " [  1 129   0   0   2   3   1   1   1   1]\n",
      " [  1   2 127   0   0   1   0   0   1   1]\n",
      " [  0   0   5 127   0   2   2   0   0   2]\n",
      " [  0   5   2   0 133   0   2   0   0   1]\n",
      " [  0   2   2   0   2 124   1   0   1   2]\n",
      " [  0   2   1   0   1   2 122   0   1   0]\n",
      " [  0   0   1   0   3   1   0 121   3   2]\n",
      " [  4   7   4   0   1   1   0   1 108   0]\n",
      " [  1   0   0   2   0   0   0   1   6 123]]\n",
      "--------------------------------------------------\n",
      "Test Accuracy : 0.7977777777777778\n",
      "Test Confusion Matrix:\n",
      "[[35  0  0  0  1  0  0  0  0  1]\n",
      " [ 0 40  0  0  0  0  1  0  0  2]\n",
      " [ 1  2 33  2  0  0  1  0  3  2]\n",
      " [ 0  1  4 36  0  1  0  0  1  2]\n",
      " [ 0  0  0  0 34  0  0  2  1  1]\n",
      " [ 0  4  0  0  4 39  0  0  0  1]\n",
      " [ 0  1  0  0  0  3 48  0  0  0]\n",
      " [ 0  1  0  2  2  1  0 41  1  0]\n",
      " [ 6  6  6  1  4  2  0  1 18  4]\n",
      " [ 2  2  0  4  0  3  0  1  0 35]]\n"
     ]
    }
   ],
   "source": [
    "print(\"Train Accuracy :\", accuracy_score(y_train, dt_best.predict(x_train)))\n",
    "print(\"Train Confusion Matrix:\")\n",
    "print(confusion_matrix(y_train, dt_best.predict(x_train)))\n",
    "print(\"-\"*50)\n",
    "print(\"Test Accuracy :\", accuracy_score(y_test, dt_best.predict(x_test)))\n",
    "print(\"Test Confusion Matrix:\")\n",
    "print(confusion_matrix(y_test, dt_best.predict(x_test)))"
   ]
  },
  {
   "cell_type": "markdown",
   "id": "communist-antibody",
   "metadata": {},
   "source": [
    "## Random Forest"
   ]
  },
  {
   "cell_type": "code",
   "execution_count": 66,
   "id": "neural-leadership",
   "metadata": {},
   "outputs": [],
   "source": [
    "from sklearn.ensemble import RandomForestClassifier"
   ]
  },
  {
   "cell_type": "code",
   "execution_count": 67,
   "id": "continuous-rebecca",
   "metadata": {},
   "outputs": [],
   "source": [
    "rf = RandomForestClassifier(random_state=0, n_estimators=10, max_depth=3)"
   ]
  },
  {
   "cell_type": "code",
   "execution_count": 70,
   "id": "impossible-plant",
   "metadata": {},
   "outputs": [
    {
     "data": {
      "text/plain": [
       "RandomForestClassifier(max_depth=3, n_estimators=10, random_state=0)"
      ]
     },
     "execution_count": 70,
     "metadata": {},
     "output_type": "execute_result"
    }
   ],
   "source": [
    "rf.fit(x_train, y_train)"
   ]
  },
  {
   "cell_type": "code",
   "execution_count": 71,
   "id": "russian-lawyer",
   "metadata": {},
   "outputs": [
    {
     "name": "stdout",
     "output_type": "stream",
     "text": [
      "Train Accuracy : 0.8396436525612472\n",
      "Train Confusion Matrix:\n",
      "[[138   0   0   0   3   0   0   0   0   0]\n",
      " [  1  77  10   1  22   0   2  12   4  10]\n",
      " [  0   0 126   1   0   0   2   2   0   2]\n",
      " [  0   3   4 118   0   5   0   5   1   2]\n",
      " [  1   0   0   0 135   0   3   4   0   0]\n",
      " [  4   0   0   0   4 119   1   0   0   6]\n",
      " [  2   1   0   0   1   1 124   0   0   0]\n",
      " [  0   1   0   1   6   1   0 122   0   0]\n",
      " [  3  16   8  12   3   2   7  11  57   7]\n",
      " [  0   0   1   3   3   3   1   5   2 115]]\n",
      "--------------------------------------------------\n",
      "Test Accuracy : 0.7933333333333333\n",
      "Test Confusion Matrix:\n",
      "[[37  0  0  0  0  0  0  0  0  0]\n",
      " [ 0 25  4  1  7  1  1  0  1  3]\n",
      " [ 1  1 36  1  0  0  1  0  1  3]\n",
      " [ 0  0  3 33  0  3  1  1  1  3]\n",
      " [ 1  0  0  0 36  0  0  1  0  0]\n",
      " [ 2  1  0  0  5 38  1  0  0  1]\n",
      " [ 0  1  0  0  0  0 51  0  0  0]\n",
      " [ 0  0  0  0  4  0  0 44  0  0]\n",
      " [ 1  3  6  3  4  0  3  7 17  4]\n",
      " [ 0  1  0  1  1  2  1  1  0 40]]\n"
     ]
    }
   ],
   "source": [
    "print(\"Train Accuracy :\", accuracy_score(y_train, rf.predict(x_train)))\n",
    "print(\"Train Confusion Matrix:\")\n",
    "print(confusion_matrix(y_train, rf.predict(x_train)))\n",
    "print(\"-\"*50)\n",
    "print(\"Test Accuracy :\", accuracy_score(y_test, rf.predict(x_test)))\n",
    "print(\"Test Confusion Matrix:\")\n",
    "print(confusion_matrix(y_test, rf.predict(x_test)))"
   ]
  },
  {
   "cell_type": "code",
   "execution_count": 72,
   "id": "placed-jefferson",
   "metadata": {},
   "outputs": [],
   "source": [
    "#hyperparameter tuning\n",
    "classifier_rf = RandomForestClassifier(random_state=0, n_jobs=-1)"
   ]
  },
  {
   "cell_type": "code",
   "execution_count": 73,
   "id": "continuous-agency",
   "metadata": {},
   "outputs": [],
   "source": [
    "# Create the parameter grid based on the results of random search \n",
    "params = {\n",
    "    'max_depth': [1, 2, 5, 10, 20],\n",
    "    'min_samples_leaf': [5, 10, 20, 50, 100],\n",
    "    'max_features': [2,3,4],\n",
    "    'n_estimators': [10, 30, 50, 100, 200]\n",
    "}"
   ]
  },
  {
   "cell_type": "code",
   "execution_count": 74,
   "id": "nearby-right",
   "metadata": {},
   "outputs": [],
   "source": [
    "# Instantiate the grid search model\n",
    "grid_search = GridSearchCV(estimator=classifier_rf, param_grid=params, \n",
    "                          cv=4, n_jobs=-1, verbose=1, scoring = \"accuracy\")"
   ]
  },
  {
   "cell_type": "code",
   "execution_count": 76,
   "id": "occupied-fruit",
   "metadata": {},
   "outputs": [
    {
     "name": "stdout",
     "output_type": "stream",
     "text": [
      "Fitting 4 folds for each of 375 candidates, totalling 1500 fits\n"
     ]
    },
    {
     "name": "stderr",
     "output_type": "stream",
     "text": [
      "[Parallel(n_jobs=-1)]: Using backend LokyBackend with 8 concurrent workers.\n",
      "[Parallel(n_jobs=-1)]: Done  34 tasks      | elapsed:    3.7s\n",
      "[Parallel(n_jobs=-1)]: Done 184 tasks      | elapsed:   11.3s\n",
      "[Parallel(n_jobs=-1)]: Done 434 tasks      | elapsed:   28.8s\n",
      "[Parallel(n_jobs=-1)]: Done 784 tasks      | elapsed:   52.7s\n",
      "[Parallel(n_jobs=-1)]: Done 1234 tasks      | elapsed:  1.4min\n",
      "[Parallel(n_jobs=-1)]: Done 1500 out of 1500 | elapsed:  1.7min finished\n"
     ]
    },
    {
     "name": "stdout",
     "output_type": "stream",
     "text": [
      "Wall time: 1min 42s\n"
     ]
    },
    {
     "data": {
      "text/plain": [
       "GridSearchCV(cv=4, estimator=RandomForestClassifier(n_jobs=-1, random_state=0),\n",
       "             n_jobs=-1,\n",
       "             param_grid={'max_depth': [1, 2, 5, 10, 20],\n",
       "                         'max_features': [2, 3, 4],\n",
       "                         'min_samples_leaf': [5, 10, 20, 50, 100],\n",
       "                         'n_estimators': [10, 30, 50, 100, 200]},\n",
       "             scoring='accuracy', verbose=1)"
      ]
     },
     "execution_count": 76,
     "metadata": {},
     "output_type": "execute_result"
    }
   ],
   "source": [
    "%%time\n",
    "grid_search.fit(x_train,y_train)"
   ]
  },
  {
   "cell_type": "code",
   "execution_count": 77,
   "id": "affiliated-saturn",
   "metadata": {},
   "outputs": [],
   "source": [
    "rf_best = grid_search.best_estimator_"
   ]
  },
  {
   "cell_type": "code",
   "execution_count": 78,
   "id": "proprietary-message",
   "metadata": {},
   "outputs": [
    {
     "name": "stdout",
     "output_type": "stream",
     "text": [
      "Train Accuracy : 0.9925760950259837\n",
      "Train Confusion Matrix:\n",
      "[[140   0   0   0   1   0   0   0   0   0]\n",
      " [  0 139   0   0   0   0   0   0   0   0]\n",
      " [  0   0 133   0   0   0   0   0   0   0]\n",
      " [  0   0   0 138   0   0   0   0   0   0]\n",
      " [  0   0   0   0 141   0   0   2   0   0]\n",
      " [  0   0   0   0   1 133   0   0   0   0]\n",
      " [  0   0   0   0   0   0 129   0   0   0]\n",
      " [  0   0   0   0   0   0   0 131   0   0]\n",
      " [  0   3   0   0   0   0   0   0 123   0]\n",
      " [  0   0   0   1   0   1   0   1   0 130]]\n",
      "--------------------------------------------------\n",
      "Test Accuracy : 0.9533333333333334\n",
      "Test Confusion Matrix:\n",
      "[[37  0  0  0  0  0  0  0  0  0]\n",
      " [ 0 42  0  0  0  1  0  0  0  0]\n",
      " [ 0  0 42  1  0  0  0  0  0  1]\n",
      " [ 0  0  1 42  0  0  0  0  1  1]\n",
      " [ 0  0  0  0 36  0  0  2  0  0]\n",
      " [ 0  0  0  1  0 47  0  0  0  0]\n",
      " [ 0  1  0  0  0  0 51  0  0  0]\n",
      " [ 0  0  0  0  1  0  0 47  0  0]\n",
      " [ 0  3  0  1  0  1  0  1 42  0]\n",
      " [ 0  0  0  1  0  2  0  1  0 43]]\n"
     ]
    }
   ],
   "source": [
    "print(\"Train Accuracy :\", accuracy_score(y_train, rf_best.predict(x_train)))\n",
    "print(\"Train Confusion Matrix:\")\n",
    "print(confusion_matrix(y_train, rf_best.predict(x_train)))\n",
    "print(\"-\"*50)\n",
    "print(\"Test Accuracy :\", accuracy_score(y_test, rf_best.predict(x_test)))\n",
    "print(\"Test Confusion Matrix:\")\n",
    "print(confusion_matrix(y_test, rf_best.predict(x_test)))"
   ]
  },
  {
   "cell_type": "code",
   "execution_count": null,
   "id": "failing-private",
   "metadata": {},
   "outputs": [],
   "source": []
  }
 ],
 "metadata": {
  "kernelspec": {
   "display_name": "Python3.6Test",
   "language": "python",
   "name": "python3.6test"
  },
  "language_info": {
   "codemirror_mode": {
    "name": "ipython",
    "version": 3
   },
   "file_extension": ".py",
   "mimetype": "text/x-python",
   "name": "python",
   "nbconvert_exporter": "python",
   "pygments_lexer": "ipython3",
   "version": "3.6.10"
  }
 },
 "nbformat": 4,
 "nbformat_minor": 5
}
