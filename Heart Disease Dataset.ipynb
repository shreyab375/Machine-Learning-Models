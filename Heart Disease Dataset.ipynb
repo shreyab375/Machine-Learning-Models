{
 "cells": [
  {
   "cell_type": "markdown",
   "id": "together-nation",
   "metadata": {},
   "source": [
    "Dataset Source https://www.kaggle.com/datasets/sulianova/cardiovascular-disease-dataset/"
   ]
  },
  {
   "cell_type": "code",
   "execution_count": 125,
   "id": "saving-cradle",
   "metadata": {},
   "outputs": [],
   "source": [
    "#Import Modules\n",
    "import pandas as pd\n",
    "import matplotlib.pyplot as plt\n",
    "import numpy as np\n",
    "import mysql.connector\n",
    "import warnings\n",
    "warnings.filterwarnings('ignore')\n",
    "import matplotlib.pyplot as plt\n",
    "import seaborn as sns"
   ]
  },
  {
   "cell_type": "code",
   "execution_count": 126,
   "id": "meaningful-contract",
   "metadata": {},
   "outputs": [],
   "source": [
    "#Read the dataset\n",
    "df = pd.read_csv('cardio_train.csv', sep=';')"
   ]
  },
  {
   "cell_type": "code",
   "execution_count": 127,
   "id": "composite-third",
   "metadata": {},
   "outputs": [
    {
     "data": {
      "text/html": [
       "<div>\n",
       "<style scoped>\n",
       "    .dataframe tbody tr th:only-of-type {\n",
       "        vertical-align: middle;\n",
       "    }\n",
       "\n",
       "    .dataframe tbody tr th {\n",
       "        vertical-align: top;\n",
       "    }\n",
       "\n",
       "    .dataframe thead th {\n",
       "        text-align: right;\n",
       "    }\n",
       "</style>\n",
       "<table border=\"1\" class=\"dataframe\">\n",
       "  <thead>\n",
       "    <tr style=\"text-align: right;\">\n",
       "      <th></th>\n",
       "      <th>id</th>\n",
       "      <th>age</th>\n",
       "      <th>gender</th>\n",
       "      <th>height</th>\n",
       "      <th>weight</th>\n",
       "      <th>ap_hi</th>\n",
       "      <th>ap_lo</th>\n",
       "      <th>cholesterol</th>\n",
       "      <th>gluc</th>\n",
       "      <th>smoke</th>\n",
       "      <th>alco</th>\n",
       "      <th>active</th>\n",
       "      <th>cardio</th>\n",
       "    </tr>\n",
       "  </thead>\n",
       "  <tbody>\n",
       "    <tr>\n",
       "      <th>0</th>\n",
       "      <td>0</td>\n",
       "      <td>18393</td>\n",
       "      <td>2</td>\n",
       "      <td>168</td>\n",
       "      <td>62.0</td>\n",
       "      <td>110</td>\n",
       "      <td>80</td>\n",
       "      <td>1</td>\n",
       "      <td>1</td>\n",
       "      <td>0</td>\n",
       "      <td>0</td>\n",
       "      <td>1</td>\n",
       "      <td>0</td>\n",
       "    </tr>\n",
       "    <tr>\n",
       "      <th>1</th>\n",
       "      <td>1</td>\n",
       "      <td>20228</td>\n",
       "      <td>1</td>\n",
       "      <td>156</td>\n",
       "      <td>85.0</td>\n",
       "      <td>140</td>\n",
       "      <td>90</td>\n",
       "      <td>3</td>\n",
       "      <td>1</td>\n",
       "      <td>0</td>\n",
       "      <td>0</td>\n",
       "      <td>1</td>\n",
       "      <td>1</td>\n",
       "    </tr>\n",
       "    <tr>\n",
       "      <th>2</th>\n",
       "      <td>2</td>\n",
       "      <td>18857</td>\n",
       "      <td>1</td>\n",
       "      <td>165</td>\n",
       "      <td>64.0</td>\n",
       "      <td>130</td>\n",
       "      <td>70</td>\n",
       "      <td>3</td>\n",
       "      <td>1</td>\n",
       "      <td>0</td>\n",
       "      <td>0</td>\n",
       "      <td>0</td>\n",
       "      <td>1</td>\n",
       "    </tr>\n",
       "    <tr>\n",
       "      <th>3</th>\n",
       "      <td>3</td>\n",
       "      <td>17623</td>\n",
       "      <td>2</td>\n",
       "      <td>169</td>\n",
       "      <td>82.0</td>\n",
       "      <td>150</td>\n",
       "      <td>100</td>\n",
       "      <td>1</td>\n",
       "      <td>1</td>\n",
       "      <td>0</td>\n",
       "      <td>0</td>\n",
       "      <td>1</td>\n",
       "      <td>1</td>\n",
       "    </tr>\n",
       "    <tr>\n",
       "      <th>4</th>\n",
       "      <td>4</td>\n",
       "      <td>17474</td>\n",
       "      <td>1</td>\n",
       "      <td>156</td>\n",
       "      <td>56.0</td>\n",
       "      <td>100</td>\n",
       "      <td>60</td>\n",
       "      <td>1</td>\n",
       "      <td>1</td>\n",
       "      <td>0</td>\n",
       "      <td>0</td>\n",
       "      <td>0</td>\n",
       "      <td>0</td>\n",
       "    </tr>\n",
       "  </tbody>\n",
       "</table>\n",
       "</div>"
      ],
      "text/plain": [
       "   id    age  gender  height  weight  ap_hi  ap_lo  cholesterol  gluc  smoke  \\\n",
       "0   0  18393       2     168    62.0    110     80            1     1      0   \n",
       "1   1  20228       1     156    85.0    140     90            3     1      0   \n",
       "2   2  18857       1     165    64.0    130     70            3     1      0   \n",
       "3   3  17623       2     169    82.0    150    100            1     1      0   \n",
       "4   4  17474       1     156    56.0    100     60            1     1      0   \n",
       "\n",
       "   alco  active  cardio  \n",
       "0     0       1       0  \n",
       "1     0       1       1  \n",
       "2     0       0       1  \n",
       "3     0       1       1  \n",
       "4     0       0       0  "
      ]
     },
     "execution_count": 127,
     "metadata": {},
     "output_type": "execute_result"
    }
   ],
   "source": [
    "df.head()"
   ]
  },
  {
   "cell_type": "code",
   "execution_count": 128,
   "id": "assisted-theta",
   "metadata": {},
   "outputs": [],
   "source": [
    "df = df.set_index('id')"
   ]
  },
  {
   "cell_type": "code",
   "execution_count": 129,
   "id": "round-while",
   "metadata": {},
   "outputs": [
    {
     "data": {
      "text/plain": [
       "Index(['age', 'gender', 'height', 'weight', 'ap_hi', 'ap_lo', 'cholesterol',\n",
       "       'gluc', 'smoke', 'alco', 'active', 'cardio'],\n",
       "      dtype='object')"
      ]
     },
     "execution_count": 129,
     "metadata": {},
     "output_type": "execute_result"
    }
   ],
   "source": [
    "#getting the list of columns\n",
    "df.columns"
   ]
  },
  {
   "cell_type": "code",
   "execution_count": 130,
   "id": "confident-radio",
   "metadata": {},
   "outputs": [
    {
     "data": {
      "text/plain": [
       "(70000, 12)"
      ]
     },
     "execution_count": 130,
     "metadata": {},
     "output_type": "execute_result"
    }
   ],
   "source": [
    "df.shape"
   ]
  },
  {
   "cell_type": "code",
   "execution_count": 131,
   "id": "systematic-exploration",
   "metadata": {},
   "outputs": [
    {
     "name": "stdout",
     "output_type": "stream",
     "text": [
      "<class 'pandas.core.frame.DataFrame'>\n",
      "Int64Index: 70000 entries, 0 to 99999\n",
      "Data columns (total 12 columns):\n",
      " #   Column       Non-Null Count  Dtype  \n",
      "---  ------       --------------  -----  \n",
      " 0   age          70000 non-null  int64  \n",
      " 1   gender       70000 non-null  int64  \n",
      " 2   height       70000 non-null  int64  \n",
      " 3   weight       70000 non-null  float64\n",
      " 4   ap_hi        70000 non-null  int64  \n",
      " 5   ap_lo        70000 non-null  int64  \n",
      " 6   cholesterol  70000 non-null  int64  \n",
      " 7   gluc         70000 non-null  int64  \n",
      " 8   smoke        70000 non-null  int64  \n",
      " 9   alco         70000 non-null  int64  \n",
      " 10  active       70000 non-null  int64  \n",
      " 11  cardio       70000 non-null  int64  \n",
      "dtypes: float64(1), int64(11)\n",
      "memory usage: 6.9 MB\n"
     ]
    }
   ],
   "source": [
    "df.info()"
   ]
  },
  {
   "cell_type": "code",
   "execution_count": 132,
   "id": "dominican-testimony",
   "metadata": {
    "scrolled": true
   },
   "outputs": [
    {
     "data": {
      "text/html": [
       "<div>\n",
       "<style scoped>\n",
       "    .dataframe tbody tr th:only-of-type {\n",
       "        vertical-align: middle;\n",
       "    }\n",
       "\n",
       "    .dataframe tbody tr th {\n",
       "        vertical-align: top;\n",
       "    }\n",
       "\n",
       "    .dataframe thead th {\n",
       "        text-align: right;\n",
       "    }\n",
       "</style>\n",
       "<table border=\"1\" class=\"dataframe\">\n",
       "  <thead>\n",
       "    <tr style=\"text-align: right;\">\n",
       "      <th></th>\n",
       "      <th>age</th>\n",
       "      <th>gender</th>\n",
       "      <th>height</th>\n",
       "      <th>weight</th>\n",
       "      <th>ap_hi</th>\n",
       "      <th>ap_lo</th>\n",
       "      <th>cholesterol</th>\n",
       "      <th>gluc</th>\n",
       "      <th>smoke</th>\n",
       "      <th>alco</th>\n",
       "      <th>active</th>\n",
       "      <th>cardio</th>\n",
       "    </tr>\n",
       "  </thead>\n",
       "  <tbody>\n",
       "    <tr>\n",
       "      <th>count</th>\n",
       "      <td>70000.000000</td>\n",
       "      <td>70000.000000</td>\n",
       "      <td>70000.000000</td>\n",
       "      <td>70000.000000</td>\n",
       "      <td>70000.000000</td>\n",
       "      <td>70000.000000</td>\n",
       "      <td>70000.000000</td>\n",
       "      <td>70000.000000</td>\n",
       "      <td>70000.000000</td>\n",
       "      <td>70000.000000</td>\n",
       "      <td>70000.000000</td>\n",
       "      <td>70000.000000</td>\n",
       "    </tr>\n",
       "    <tr>\n",
       "      <th>mean</th>\n",
       "      <td>19468.865814</td>\n",
       "      <td>1.349571</td>\n",
       "      <td>164.359229</td>\n",
       "      <td>74.205690</td>\n",
       "      <td>128.817286</td>\n",
       "      <td>96.630414</td>\n",
       "      <td>1.366871</td>\n",
       "      <td>1.226457</td>\n",
       "      <td>0.088129</td>\n",
       "      <td>0.053771</td>\n",
       "      <td>0.803729</td>\n",
       "      <td>0.499700</td>\n",
       "    </tr>\n",
       "    <tr>\n",
       "      <th>std</th>\n",
       "      <td>2467.251667</td>\n",
       "      <td>0.476838</td>\n",
       "      <td>8.210126</td>\n",
       "      <td>14.395757</td>\n",
       "      <td>154.011419</td>\n",
       "      <td>188.472530</td>\n",
       "      <td>0.680250</td>\n",
       "      <td>0.572270</td>\n",
       "      <td>0.283484</td>\n",
       "      <td>0.225568</td>\n",
       "      <td>0.397179</td>\n",
       "      <td>0.500003</td>\n",
       "    </tr>\n",
       "    <tr>\n",
       "      <th>min</th>\n",
       "      <td>10798.000000</td>\n",
       "      <td>1.000000</td>\n",
       "      <td>55.000000</td>\n",
       "      <td>10.000000</td>\n",
       "      <td>-150.000000</td>\n",
       "      <td>-70.000000</td>\n",
       "      <td>1.000000</td>\n",
       "      <td>1.000000</td>\n",
       "      <td>0.000000</td>\n",
       "      <td>0.000000</td>\n",
       "      <td>0.000000</td>\n",
       "      <td>0.000000</td>\n",
       "    </tr>\n",
       "    <tr>\n",
       "      <th>25%</th>\n",
       "      <td>17664.000000</td>\n",
       "      <td>1.000000</td>\n",
       "      <td>159.000000</td>\n",
       "      <td>65.000000</td>\n",
       "      <td>120.000000</td>\n",
       "      <td>80.000000</td>\n",
       "      <td>1.000000</td>\n",
       "      <td>1.000000</td>\n",
       "      <td>0.000000</td>\n",
       "      <td>0.000000</td>\n",
       "      <td>1.000000</td>\n",
       "      <td>0.000000</td>\n",
       "    </tr>\n",
       "    <tr>\n",
       "      <th>50%</th>\n",
       "      <td>19703.000000</td>\n",
       "      <td>1.000000</td>\n",
       "      <td>165.000000</td>\n",
       "      <td>72.000000</td>\n",
       "      <td>120.000000</td>\n",
       "      <td>80.000000</td>\n",
       "      <td>1.000000</td>\n",
       "      <td>1.000000</td>\n",
       "      <td>0.000000</td>\n",
       "      <td>0.000000</td>\n",
       "      <td>1.000000</td>\n",
       "      <td>0.000000</td>\n",
       "    </tr>\n",
       "    <tr>\n",
       "      <th>75%</th>\n",
       "      <td>21327.000000</td>\n",
       "      <td>2.000000</td>\n",
       "      <td>170.000000</td>\n",
       "      <td>82.000000</td>\n",
       "      <td>140.000000</td>\n",
       "      <td>90.000000</td>\n",
       "      <td>2.000000</td>\n",
       "      <td>1.000000</td>\n",
       "      <td>0.000000</td>\n",
       "      <td>0.000000</td>\n",
       "      <td>1.000000</td>\n",
       "      <td>1.000000</td>\n",
       "    </tr>\n",
       "    <tr>\n",
       "      <th>max</th>\n",
       "      <td>23713.000000</td>\n",
       "      <td>2.000000</td>\n",
       "      <td>250.000000</td>\n",
       "      <td>200.000000</td>\n",
       "      <td>16020.000000</td>\n",
       "      <td>11000.000000</td>\n",
       "      <td>3.000000</td>\n",
       "      <td>3.000000</td>\n",
       "      <td>1.000000</td>\n",
       "      <td>1.000000</td>\n",
       "      <td>1.000000</td>\n",
       "      <td>1.000000</td>\n",
       "    </tr>\n",
       "  </tbody>\n",
       "</table>\n",
       "</div>"
      ],
      "text/plain": [
       "                age        gender        height        weight         ap_hi  \\\n",
       "count  70000.000000  70000.000000  70000.000000  70000.000000  70000.000000   \n",
       "mean   19468.865814      1.349571    164.359229     74.205690    128.817286   \n",
       "std     2467.251667      0.476838      8.210126     14.395757    154.011419   \n",
       "min    10798.000000      1.000000     55.000000     10.000000   -150.000000   \n",
       "25%    17664.000000      1.000000    159.000000     65.000000    120.000000   \n",
       "50%    19703.000000      1.000000    165.000000     72.000000    120.000000   \n",
       "75%    21327.000000      2.000000    170.000000     82.000000    140.000000   \n",
       "max    23713.000000      2.000000    250.000000    200.000000  16020.000000   \n",
       "\n",
       "              ap_lo   cholesterol          gluc         smoke          alco  \\\n",
       "count  70000.000000  70000.000000  70000.000000  70000.000000  70000.000000   \n",
       "mean      96.630414      1.366871      1.226457      0.088129      0.053771   \n",
       "std      188.472530      0.680250      0.572270      0.283484      0.225568   \n",
       "min      -70.000000      1.000000      1.000000      0.000000      0.000000   \n",
       "25%       80.000000      1.000000      1.000000      0.000000      0.000000   \n",
       "50%       80.000000      1.000000      1.000000      0.000000      0.000000   \n",
       "75%       90.000000      2.000000      1.000000      0.000000      0.000000   \n",
       "max    11000.000000      3.000000      3.000000      1.000000      1.000000   \n",
       "\n",
       "             active        cardio  \n",
       "count  70000.000000  70000.000000  \n",
       "mean       0.803729      0.499700  \n",
       "std        0.397179      0.500003  \n",
       "min        0.000000      0.000000  \n",
       "25%        1.000000      0.000000  \n",
       "50%        1.000000      0.000000  \n",
       "75%        1.000000      1.000000  \n",
       "max        1.000000      1.000000  "
      ]
     },
     "execution_count": 132,
     "metadata": {},
     "output_type": "execute_result"
    }
   ],
   "source": [
    "df.describe()"
   ]
  },
  {
   "cell_type": "code",
   "execution_count": 133,
   "id": "noted-store",
   "metadata": {},
   "outputs": [],
   "source": [
    "#converting age from days to years\n",
    "df[\"age\"] = (df.age/365)\n",
    "df.age = df.age.astype(int)"
   ]
  },
  {
   "cell_type": "code",
   "execution_count": 134,
   "id": "attended-welsh",
   "metadata": {},
   "outputs": [
    {
     "data": {
      "text/html": [
       "<div>\n",
       "<style scoped>\n",
       "    .dataframe tbody tr th:only-of-type {\n",
       "        vertical-align: middle;\n",
       "    }\n",
       "\n",
       "    .dataframe tbody tr th {\n",
       "        vertical-align: top;\n",
       "    }\n",
       "\n",
       "    .dataframe thead th {\n",
       "        text-align: right;\n",
       "    }\n",
       "</style>\n",
       "<table border=\"1\" class=\"dataframe\">\n",
       "  <thead>\n",
       "    <tr style=\"text-align: right;\">\n",
       "      <th></th>\n",
       "      <th>age</th>\n",
       "      <th>gender</th>\n",
       "      <th>height</th>\n",
       "      <th>weight</th>\n",
       "      <th>ap_hi</th>\n",
       "      <th>ap_lo</th>\n",
       "      <th>cholesterol</th>\n",
       "      <th>gluc</th>\n",
       "      <th>smoke</th>\n",
       "      <th>alco</th>\n",
       "      <th>active</th>\n",
       "      <th>cardio</th>\n",
       "    </tr>\n",
       "    <tr>\n",
       "      <th>id</th>\n",
       "      <th></th>\n",
       "      <th></th>\n",
       "      <th></th>\n",
       "      <th></th>\n",
       "      <th></th>\n",
       "      <th></th>\n",
       "      <th></th>\n",
       "      <th></th>\n",
       "      <th></th>\n",
       "      <th></th>\n",
       "      <th></th>\n",
       "      <th></th>\n",
       "    </tr>\n",
       "  </thead>\n",
       "  <tbody>\n",
       "    <tr>\n",
       "      <th>0</th>\n",
       "      <td>50</td>\n",
       "      <td>2</td>\n",
       "      <td>168</td>\n",
       "      <td>62.0</td>\n",
       "      <td>110</td>\n",
       "      <td>80</td>\n",
       "      <td>1</td>\n",
       "      <td>1</td>\n",
       "      <td>0</td>\n",
       "      <td>0</td>\n",
       "      <td>1</td>\n",
       "      <td>0</td>\n",
       "    </tr>\n",
       "    <tr>\n",
       "      <th>1</th>\n",
       "      <td>55</td>\n",
       "      <td>1</td>\n",
       "      <td>156</td>\n",
       "      <td>85.0</td>\n",
       "      <td>140</td>\n",
       "      <td>90</td>\n",
       "      <td>3</td>\n",
       "      <td>1</td>\n",
       "      <td>0</td>\n",
       "      <td>0</td>\n",
       "      <td>1</td>\n",
       "      <td>1</td>\n",
       "    </tr>\n",
       "    <tr>\n",
       "      <th>2</th>\n",
       "      <td>51</td>\n",
       "      <td>1</td>\n",
       "      <td>165</td>\n",
       "      <td>64.0</td>\n",
       "      <td>130</td>\n",
       "      <td>70</td>\n",
       "      <td>3</td>\n",
       "      <td>1</td>\n",
       "      <td>0</td>\n",
       "      <td>0</td>\n",
       "      <td>0</td>\n",
       "      <td>1</td>\n",
       "    </tr>\n",
       "    <tr>\n",
       "      <th>3</th>\n",
       "      <td>48</td>\n",
       "      <td>2</td>\n",
       "      <td>169</td>\n",
       "      <td>82.0</td>\n",
       "      <td>150</td>\n",
       "      <td>100</td>\n",
       "      <td>1</td>\n",
       "      <td>1</td>\n",
       "      <td>0</td>\n",
       "      <td>0</td>\n",
       "      <td>1</td>\n",
       "      <td>1</td>\n",
       "    </tr>\n",
       "    <tr>\n",
       "      <th>4</th>\n",
       "      <td>47</td>\n",
       "      <td>1</td>\n",
       "      <td>156</td>\n",
       "      <td>56.0</td>\n",
       "      <td>100</td>\n",
       "      <td>60</td>\n",
       "      <td>1</td>\n",
       "      <td>1</td>\n",
       "      <td>0</td>\n",
       "      <td>0</td>\n",
       "      <td>0</td>\n",
       "      <td>0</td>\n",
       "    </tr>\n",
       "  </tbody>\n",
       "</table>\n",
       "</div>"
      ],
      "text/plain": [
       "    age  gender  height  weight  ap_hi  ap_lo  cholesterol  gluc  smoke  alco  \\\n",
       "id                                                                              \n",
       "0    50       2     168    62.0    110     80            1     1      0     0   \n",
       "1    55       1     156    85.0    140     90            3     1      0     0   \n",
       "2    51       1     165    64.0    130     70            3     1      0     0   \n",
       "3    48       2     169    82.0    150    100            1     1      0     0   \n",
       "4    47       1     156    56.0    100     60            1     1      0     0   \n",
       "\n",
       "    active  cardio  \n",
       "id                  \n",
       "0        1       0  \n",
       "1        1       1  \n",
       "2        0       1  \n",
       "3        1       1  \n",
       "4        0       0  "
      ]
     },
     "execution_count": 134,
     "metadata": {},
     "output_type": "execute_result"
    }
   ],
   "source": [
    "df.head()"
   ]
  },
  {
   "cell_type": "code",
   "execution_count": 135,
   "id": "rubber-arlington",
   "metadata": {},
   "outputs": [
    {
     "name": "stdout",
     "output_type": "stream",
     "text": [
      "Seems like Blood Pressures have outliers as both max and min values are skewed \n"
     ]
    }
   ],
   "source": [
    "print(\"Seems like Blood Pressures have outliers as both max and min values are skewed \")"
   ]
  },
  {
   "cell_type": "code",
   "execution_count": 136,
   "id": "fantastic-concord",
   "metadata": {},
   "outputs": [
    {
     "data": {
      "image/png": "[encoded data removed]",
      "text/plain": [
       "<Figure size 432x288 with 1 Axes>"
      ]
     },
     "metadata": {
      "needs_background": "light"
     },
     "output_type": "display_data"
    },
    {
     "data": {
      "text/plain": [
       "<Figure size 720x360 with 0 Axes>"
      ]
     },
     "metadata": {},
     "output_type": "display_data"
    }
   ],
   "source": [
    "sns.scatterplot(data = df, x = \"ap_hi\", y = \"ap_lo\")\n",
    "plt.title(\"Blood Pressure Data\")\n",
    "plt.xlabel(\"Systolic Blood Pressure (mmHg)\")\n",
    "plt.ylabel(\"Diastolic Blood Pressure (mmHg)\")\n",
    "plt.figure(figsize = (10,5))\n",
    "plt.show()"
   ]
  },
  {
   "cell_type": "code",
   "execution_count": 137,
   "id": "gorgeous-necessity",
   "metadata": {},
   "outputs": [
    {
     "name": "stdout",
     "output_type": "stream",
     "text": [
      " Accordin to this google link https://www.google.com/search?q=maximum+possible+blood+pressure&sca_esv=588006686&sxsrf=AM9HkKmHJ_iADfczjA1nT6-saIezmhmyrw%3A1701782978205&ei=wiVvZYqJDJawi-gPptyi0Ak&ved=0ahUKEwiK8pnPs_iCAxUW2AIHHSauCJoQ4dUDCBA&uact=5&oq=maximum+possible+blood+pressure&gs_lp=Egxnd3Mtd2l6LXNlcnAiH21heGltdW0gcG9zc2libGUgYmxvb2QgcHJlc3N1cmUyBRAAGIAEMgYQABgWGB4yBhAAGBYYHjILEAAYgAQYigUYhgMyCxAAGIAEGIoFGIYDMgsQABiABBiKBRiGA0i-PlAAWPk8cAB4AZABAJgBkAGgAfEVqgEFMjAuMTG4AQPIAQD4AQHCAgQQIxgnwgIKECMYgAQYigUYJ8ICCxAAGIAEGIoFGJECwgILEAAYgAQYsQMYgwHCAg4QABiABBiKBRixAxiDAcICCxAAGIAEGIoFGLEDwgIIEAAYgAQYsQPCAgoQABiABBiKBRhDwgIREC4YgAQYsQMYgwEYxwEY0QPCAgUQLhiABMICDhAuGIAEGIoFGJECGLEDwgIOEC4YgAQYsQMYxwEY0QPCAhEQLhiABBiKBRixAxjHARjRA8ICChAuGIAEGIoFGEPCAgsQLhiABBjHARivAcICBBAuGAPCAgoQABiABBgUGIcCwgILEC4YgAQYxwEY0QPCAgcQABiABBgKwgIIEAAYFhgeGA_iAwQYACBBiAYB&sclient=gws-wiz-serp, highest blood pressure ever recorded in 370\n"
     ]
    }
   ],
   "source": [
    "print(\" Accordin to this google link https://www.google.com/search?q=maximum+possible+blood+pressure&sca_esv=588006686&sxsrf=AM9HkKmHJ_iADfczjA1nT6-saIezmhmyrw%3A1701782978205&ei=wiVvZYqJDJawi-gPptyi0Ak&ved=0ahUKEwiK8pnPs_iCAxUW2AIHHSauCJoQ4dUDCBA&uact=5&oq=maximum+possible+blood+pressure&gs_lp=Egxnd3Mtd2l6LXNlcnAiH21heGltdW0gcG9zc2libGUgYmxvb2QgcHJlc3N1cmUyBRAAGIAEMgYQABgWGB4yBhAAGBYYHjILEAAYgAQYigUYhgMyCxAAGIAEGIoFGIYDMgsQABiABBiKBRiGA0i-PlAAWPk8cAB4AZABAJgBkAGgAfEVqgEFMjAuMTG4AQPIAQD4AQHCAgQQIxgnwgIKECMYgAQYigUYJ8ICCxAAGIAEGIoFGJECwgILEAAYgAQYsQMYgwHCAg4QABiABBiKBRixAxiDAcICCxAAGIAEGIoFGLEDwgIIEAAYgAQYsQPCAgoQABiABBiKBRhDwgIREC4YgAQYsQMYgwEYxwEY0QPCAgUQLhiABMICDhAuGIAEGIoFGJECGLEDwgIOEC4YgAQYsQMYxwEY0QPCAhEQLhiABBiKBRixAxjHARjRA8ICChAuGIAEGIoFGEPCAgsQLhiABBjHARivAcICBBAuGAPCAgoQABiABBgUGIcCwgILEC4YgAQYxwEY0QPCAgcQABiABBgKwgIIEAAYFhgeGA_iAwQYACBBiAYB&sclient=gws-wiz-serp, highest blood pressure ever recorded in 370\")"
   ]
  },
  {
   "cell_type": "code",
   "execution_count": 138,
   "id": "identified-collins",
   "metadata": {},
   "outputs": [
    {
     "name": "stdout",
     "output_type": "stream",
     "text": [
      " Lowest possible blood pressure is around 40\n"
     ]
    }
   ],
   "source": [
    "print(\" Lowest possible blood pressure is around 40\")"
   ]
  },
  {
   "cell_type": "code",
   "execution_count": 139,
   "id": "physical-donna",
   "metadata": {},
   "outputs": [
    {
     "data": {
      "image/png": "[encoded data removed]",
      "text/plain": [
       "<Figure size 432x288 with 1 Axes>"
      ]
     },
     "metadata": {
      "needs_background": "light"
     },
     "output_type": "display_data"
    }
   ],
   "source": [
    "boxplot = df.boxplot(column=['ap_hi', 'ap_lo'])  "
   ]
  },
  {
   "cell_type": "code",
   "execution_count": 140,
   "id": "prerequisite-albania",
   "metadata": {},
   "outputs": [],
   "source": [
    "#dropping anything less than 0\n",
    "negatives = df[(df['ap_hi'] < 0)]"
   ]
  },
  {
   "cell_type": "code",
   "execution_count": 141,
   "id": "racial-turner",
   "metadata": {},
   "outputs": [],
   "source": [
    "negatives = df[(df['ap_hi'] < 0)]"
   ]
  },
  {
   "cell_type": "code",
   "execution_count": 142,
   "id": "blond-arthritis",
   "metadata": {},
   "outputs": [],
   "source": [
    "df = df.drop(negatives.index)"
   ]
  },
  {
   "cell_type": "code",
   "execution_count": 143,
   "id": "atmospheric-psychiatry",
   "metadata": {},
   "outputs": [],
   "source": [
    "#dropping the outliers using 1.5 interquantile range for ap_hi\n",
    "# calculate IQR for column ap_hi\n",
    "Q1 = df['ap_hi'].quantile(0.25)\n",
    "Q3 = df['ap_hi'].quantile(0.75)\n",
    "IQR = Q3 - Q1\n",
    "\n",
    "# identify outliers\n",
    "threshold = 1.5\n",
    "outliers = df[(df['ap_hi'] < Q1 - threshold * IQR) | (df['ap_hi'] > Q3 + threshold * IQR)]"
   ]
  },
  {
   "cell_type": "code",
   "execution_count": 144,
   "id": "identical-things",
   "metadata": {},
   "outputs": [
    {
     "data": {
      "text/plain": [
       "(1428, 12)"
      ]
     },
     "execution_count": 144,
     "metadata": {},
     "output_type": "execute_result"
    }
   ],
   "source": [
    "outliers.shape"
   ]
  },
  {
   "cell_type": "code",
   "execution_count": 145,
   "id": "enclosed-estonia",
   "metadata": {},
   "outputs": [],
   "source": [
    "#calculate outliers using standard deviations\n",
    "upper_boundary = df[\"ap_hi\"].median() + 3 * df[\"ap_hi\"].std()\n",
    "lower_boundary = df[\"ap_hi\"].median() - 3 * df[\"ap_hi\"].std()\n",
    "outliers_std = df[(df['ap_hi'] < lower_boundary) | (df['ap_hi'] > upper_boundary)]"
   ]
  },
  {
   "cell_type": "code",
   "execution_count": 146,
   "id": "relevant-decline",
   "metadata": {},
   "outputs": [
    {
     "data": {
      "text/plain": [
       "(38, 12)"
      ]
     },
     "execution_count": 146,
     "metadata": {},
     "output_type": "execute_result"
    }
   ],
   "source": [
    "outliers_std.shape"
   ]
  },
  {
   "cell_type": "code",
   "execution_count": 147,
   "id": "coated-gasoline",
   "metadata": {},
   "outputs": [],
   "source": [
    "df = df.drop(outliers_std.index)"
   ]
  },
  {
   "cell_type": "code",
   "execution_count": 148,
   "id": "heavy-surname",
   "metadata": {},
   "outputs": [
    {
     "data": {
      "image/png": "[encoded data removed]",
      "text/plain": [
       "<Figure size 432x288 with 1 Axes>"
      ]
     },
     "metadata": {
      "needs_background": "light"
     },
     "output_type": "display_data"
    }
   ],
   "source": [
    "boxplot = df.boxplot(column=['ap_hi'])  "
   ]
  },
  {
   "cell_type": "code",
   "execution_count": 149,
   "id": "polyphonic-reasoning",
   "metadata": {},
   "outputs": [
    {
     "data": {
      "text/plain": [
       "181"
      ]
     },
     "execution_count": 149,
     "metadata": {},
     "output_type": "execute_result"
    }
   ],
   "source": [
    "(df['ap_hi'] < 50).sum()"
   ]
  },
  {
   "cell_type": "code",
   "execution_count": 150,
   "id": "underlying-optimization",
   "metadata": {},
   "outputs": [],
   "source": [
    "#drop everything below 50\n",
    "less = df[(df['ap_hi'] < 50)]\n",
    "df = df.drop(less.index)"
   ]
  },
  {
   "cell_type": "code",
   "execution_count": 151,
   "id": "lasting-basis",
   "metadata": {},
   "outputs": [
    {
     "data": {
      "image/png": "[encoded data removed]",
      "text/plain": [
       "<Figure size 432x288 with 1 Axes>"
      ]
     },
     "metadata": {
      "needs_background": "light"
     },
     "output_type": "display_data"
    }
   ],
   "source": [
    "boxplot = df.boxplot(column=['ap_hi'])  "
   ]
  },
  {
   "cell_type": "code",
   "execution_count": 152,
   "id": "victorian-accountability",
   "metadata": {},
   "outputs": [],
   "source": [
    "#lets drop that 2 outlier as well!\n",
    "more = df[(df['ap_hi'] >250 )]\n",
    "df = df.drop(more.index)"
   ]
  },
  {
   "cell_type": "code",
   "execution_count": 153,
   "id": "residential-coating",
   "metadata": {},
   "outputs": [],
   "source": [
    "#doing the same procedure with ap_lo\n",
    "negatives = df[(df['ap_lo'] < 0)]\n",
    "df = df.drop(negatives.index)\n",
    "upper_boundary = df[\"ap_lo\"].median() + 3 * df[\"ap_lo\"].std()\n",
    "lower_boundary = df[\"ap_lo\"].median() - 3 * df[\"ap_lo\"].std()\n",
    "outliers_std = df[(df['ap_lo'] < lower_boundary) | (df['ap_lo'] > upper_boundary)]\n",
    "df = df.drop(outliers_std.index)"
   ]
  },
  {
   "cell_type": "code",
   "execution_count": 154,
   "id": "resistant-grant",
   "metadata": {},
   "outputs": [
    {
     "data": {
      "image/png": "[encoded data removed]",
      "text/plain": [
       "<Figure size 432x288 with 1 Axes>"
      ]
     },
     "metadata": {
      "needs_background": "light"
     },
     "output_type": "display_data"
    }
   ],
   "source": [
    "boxplot = df.boxplot(column=['ap_lo'])  "
   ]
  },
  {
   "cell_type": "code",
   "execution_count": 155,
   "id": "offensive-guinea",
   "metadata": {},
   "outputs": [],
   "source": [
    "#drop everything above 250\n",
    "more = df[(df['ap_lo'] > 250)]\n",
    "df = df.drop(more.index)"
   ]
  },
  {
   "cell_type": "code",
   "execution_count": 156,
   "id": "north-soccer",
   "metadata": {},
   "outputs": [
    {
     "data": {
      "image/png": "[encoded data removed]",
      "text/plain": [
       "<Figure size 432x288 with 1 Axes>"
      ]
     },
     "metadata": {
      "needs_background": "light"
     },
     "output_type": "display_data"
    }
   ],
   "source": [
    "boxplot = df.boxplot(column=['ap_lo'])  "
   ]
  },
  {
   "cell_type": "code",
   "execution_count": 157,
   "id": "union-worker",
   "metadata": {},
   "outputs": [
    {
     "data": {
      "text/plain": [
       "67"
      ]
     },
     "execution_count": 157,
     "metadata": {},
     "output_type": "execute_result"
    }
   ],
   "source": [
    "(df['ap_lo'] < 50).sum()"
   ]
  },
  {
   "cell_type": "code",
   "execution_count": 158,
   "id": "handed-departure",
   "metadata": {},
   "outputs": [],
   "source": [
    "#drop everything below 50\n",
    "less = df[(df['ap_lo'] < 50)]\n",
    "df = df.drop(less.index)"
   ]
  },
  {
   "cell_type": "code",
   "execution_count": 159,
   "id": "impressive-running",
   "metadata": {},
   "outputs": [
    {
     "data": {
      "image/png": "[encoded data removed]",
      "text/plain": [
       "<Figure size 432x288 with 1 Axes>"
      ]
     },
     "metadata": {
      "needs_background": "light"
     },
     "output_type": "display_data"
    }
   ],
   "source": [
    "boxplot = df.boxplot(column=['ap_hi', 'ap_lo'])  "
   ]
  },
  {
   "cell_type": "code",
   "execution_count": 160,
   "id": "sophisticated-majority",
   "metadata": {},
   "outputs": [
    {
     "name": "stdout",
     "output_type": "stream",
     "text": [
      "Data Distribution\n"
     ]
    },
    {
     "data": {
      "image/png": "[encoded data removed]",
      "text/plain": [
       "<Figure size 1152x720 with 15 Axes>"
      ]
     },
     "metadata": {
      "needs_background": "light"
     },
     "output_type": "display_data"
    }
   ],
   "source": [
    "df.hist(layout = (3,5), figsize=(16,10), color = 'g')\n",
    "print('Data Distribution')"
   ]
  },
  {
   "cell_type": "code",
   "execution_count": 161,
   "id": "anonymous-shame",
   "metadata": {},
   "outputs": [
    {
     "name": "stdout",
     "output_type": "stream",
     "text": [
      "This looks like a fairly balanced dataset, as distribution of majority and minority class is around 50:50\n"
     ]
    },
    {
     "data": {
      "image/png": "[encoded data removed]",
      "text/plain": [
       "<Figure size 432x288 with 1 Axes>"
      ]
     },
     "metadata": {
      "needs_background": "light"
     },
     "output_type": "display_data"
    }
   ],
   "source": [
    "print('This looks like a fairly balanced dataset, as distribution of majority and minority class is around 50:50')\n",
    "sns.countplot(x=\"cardio\", data=df, palette=\"mako_r\")\n",
    "plt.show()"
   ]
  },
  {
   "cell_type": "code",
   "execution_count": 162,
   "id": "fifth-kansas",
   "metadata": {},
   "outputs": [
    {
     "data": {
      "image/png": "[encoded data removed]",
      "text/plain": [
       "<Figure size 432x288 with 1 Axes>"
      ]
     },
     "metadata": {
      "needs_background": "light"
     },
     "output_type": "display_data"
    }
   ],
   "source": [
    "sns.countplot(x='gender', data=df, palette=\"bwr\")\n",
    "plt.xlabel(\"Gender (1 = male, 2= female)\")\n",
    "plt.show()"
   ]
  },
  {
   "cell_type": "code",
   "execution_count": 163,
   "id": "naked-horse",
   "metadata": {},
   "outputs": [
    {
     "name": "stdout",
     "output_type": "stream",
     "text": [
      "Analysing distribution of target and sex (0-female 1-male)\n"
     ]
    },
    {
     "data": {
      "image/png": "[encoded data removed]",
      "text/plain": [
       "<Figure size 432x288 with 1 Axes>"
      ]
     },
     "metadata": {
      "needs_background": "light"
     },
     "output_type": "display_data"
    }
   ],
   "source": [
    "print('Analysing distribution of target and sex (0-female 1-male)')\n",
    "sns.countplot(x = df['gender'], hue = df['cardio'], palette='bwr') \n",
    "plt.xlabel(\"Sex (1 = male, 2= female)\")\n",
    "plt.show()"
   ]
  },
  {
   "cell_type": "code",
   "execution_count": 164,
   "id": "diagnostic-reception",
   "metadata": {},
   "outputs": [
    {
     "data": {
      "image/png": "[encoded data removed]",
      "text/plain": [
       "<Figure size 432x288 with 1 Axes>"
      ]
     },
     "metadata": {
      "needs_background": "light"
     },
     "output_type": "display_data"
    }
   ],
   "source": [
    "sns.countplot(x='cholesterol',data=df,hue='cardio',palette='colorblind',linewidth=1,edgecolor=sns.color_palette('dark',n_colors=1))\n",
    "plt.show()"
   ]
  },
  {
   "cell_type": "code",
   "execution_count": 165,
   "id": "outstanding-philippines",
   "metadata": {},
   "outputs": [
    {
     "data": {
      "image/png": "[encoded data removed]",
      "text/plain": [
       "<Figure size 1440x432 with 1 Axes>"
      ]
     },
     "metadata": {
      "needs_background": "light"
     },
     "output_type": "display_data"
    }
   ],
   "source": [
    "pd.crosstab(df.age,df.cardio).plot(kind=\"bar\",figsize=(20,6), color = ['g','r'])\n",
    "plt.title('Heart Disease Distribution by Patient Age')\n",
    "plt.xlabel('Age')\n",
    "plt.ylabel('Counts')\n",
    "plt.show()"
   ]
  },
  {
   "cell_type": "code",
   "execution_count": 166,
   "id": "turkish-hollywood",
   "metadata": {},
   "outputs": [
    {
     "data": {
      "image/png": "[encoded data removed]",
      "text/plain": [
       "<Figure size 432x288 with 1 Axes>"
      ]
     },
     "metadata": {
      "needs_background": "light"
     },
     "output_type": "display_data"
    }
   ],
   "source": [
    "plt.bar(df.age[df.cardio==1], df.ap_hi[(df.cardio==1)], color=\"red\")\n",
    "plt.bar(df.age[df.cardio==0], df.ap_hi[(df.cardio==0)], color=\"grey\")\n",
    "plt.legend([\"Diseased\", \"Not Diseased\"])\n",
    "plt.xlabel(\"Age\")\n",
    "plt.ylabel(\"Maximum Heart Rate\")\n",
    "plt.show()"
   ]
  },
  {
   "cell_type": "code",
   "execution_count": 167,
   "id": "southern-leeds",
   "metadata": {},
   "outputs": [
    {
     "data": {
      "image/png": "[encoded data removed]",
      "text/plain": [
       "<Figure size 432x288 with 1 Axes>"
      ]
     },
     "metadata": {
      "needs_background": "light"
     },
     "output_type": "display_data"
    }
   ],
   "source": [
    "df.groupby(by = \"age\")[ \"ap_hi\", \"ap_lo\"].mean().plot()\n",
    "plt.title(\"Blood pressure vs Age\")\n",
    "plt.xlabel(\"Age (years)\")\n",
    "plt.ylabel(\"Mean Value\")\n",
    "plt.show()"
   ]
  },
  {
   "cell_type": "code",
   "execution_count": 168,
   "id": "increasing-cover",
   "metadata": {},
   "outputs": [
    {
     "data": {
      "image/png": "[encoded data removed]",
      "text/plain": [
       "<Figure size 432x288 with 1 Axes>"
      ]
     },
     "metadata": {
      "needs_background": "light"
     },
     "output_type": "display_data"
    }
   ],
   "source": [
    "df.groupby(by = \"age\")[ \"cholesterol\"].mean().plot()\n",
    "plt.title(\"Mean of Cholesterol group vs Age\")\n",
    "plt.xlabel(\"Age (years)\") \n",
    "plt.show()"
   ]
  },
  {
   "cell_type": "code",
   "execution_count": 169,
   "id": "theoretical-flavor",
   "metadata": {},
   "outputs": [
    {
     "data": {
      "image/png": "[encoded data removed]",
      "text/plain": [
       "<Figure size 432x288 with 1 Axes>"
      ]
     },
     "metadata": {
      "needs_background": "light"
     },
     "output_type": "display_data"
    }
   ],
   "source": [
    "df.groupby(by = \"age\")[ \"alco\", \"smoke\"].mean().plot()\n",
    "plt.title(\"Alcohol and Smoking vs Age\")\n",
    "plt.xlabel(\"Age (years)\")\n",
    "plt.show()"
   ]
  },
  {
   "cell_type": "code",
   "execution_count": 170,
   "id": "demonstrated-punishment",
   "metadata": {},
   "outputs": [
    {
     "data": {
      "text/plain": [
       "(68755, 12)"
      ]
     },
     "execution_count": 170,
     "metadata": {},
     "output_type": "execute_result"
    }
   ],
   "source": [
    "df.shape"
   ]
  },
  {
   "cell_type": "code",
   "execution_count": 171,
   "id": "fabulous-header",
   "metadata": {},
   "outputs": [],
   "source": [
    "from sklearn.model_selection import train_test_split\n",
    "\n",
    "# We specify this so that the train and test data set always have the same rows, respectively\n",
    "np.random.seed(0)\n",
    "df_train, df_test = train_test_split(df, train_size = 0.8, test_size = 0.2, random_state = 100)"
   ]
  },
  {
   "cell_type": "code",
   "execution_count": 172,
   "id": "other-absorption",
   "metadata": {},
   "outputs": [],
   "source": [
    "from sklearn.preprocessing import MinMaxScaler"
   ]
  },
  {
   "cell_type": "code",
   "execution_count": 173,
   "id": "altered-preliminary",
   "metadata": {},
   "outputs": [],
   "source": [
    "scaler = MinMaxScaler()"
   ]
  },
  {
   "cell_type": "code",
   "execution_count": 174,
   "id": "seeing-sapphire",
   "metadata": {},
   "outputs": [],
   "source": [
    "# Apply scaler() to all the columns except the 'yes-no' and 'dummy' variables\n",
    "num_vars = ['age', 'gender', 'height', 'weight', 'ap_hi', 'ap_lo',\n",
    "       'cholesterol', 'gluc']\n",
    "\n",
    "df_train[num_vars] = scaler.fit_transform(df_train[num_vars])\n",
    "df_test[num_vars] = scaler.transform(df_test[num_vars])"
   ]
  },
  {
   "cell_type": "code",
   "execution_count": 175,
   "id": "baking-louisiana",
   "metadata": {},
   "outputs": [
    {
     "data": {
      "text/html": [
       "<div>\n",
       "<style scoped>\n",
       "    .dataframe tbody tr th:only-of-type {\n",
       "        vertical-align: middle;\n",
       "    }\n",
       "\n",
       "    .dataframe tbody tr th {\n",
       "        vertical-align: top;\n",
       "    }\n",
       "\n",
       "    .dataframe thead th {\n",
       "        text-align: right;\n",
       "    }\n",
       "</style>\n",
       "<table border=\"1\" class=\"dataframe\">\n",
       "  <thead>\n",
       "    <tr style=\"text-align: right;\">\n",
       "      <th></th>\n",
       "      <th>age</th>\n",
       "      <th>gender</th>\n",
       "      <th>height</th>\n",
       "      <th>weight</th>\n",
       "      <th>ap_hi</th>\n",
       "      <th>ap_lo</th>\n",
       "      <th>cholesterol</th>\n",
       "      <th>gluc</th>\n",
       "      <th>smoke</th>\n",
       "      <th>alco</th>\n",
       "      <th>active</th>\n",
       "      <th>cardio</th>\n",
       "    </tr>\n",
       "    <tr>\n",
       "      <th>id</th>\n",
       "      <th></th>\n",
       "      <th></th>\n",
       "      <th></th>\n",
       "      <th></th>\n",
       "      <th></th>\n",
       "      <th></th>\n",
       "      <th></th>\n",
       "      <th></th>\n",
       "      <th></th>\n",
       "      <th></th>\n",
       "      <th></th>\n",
       "      <th></th>\n",
       "    </tr>\n",
       "  </thead>\n",
       "  <tbody>\n",
       "    <tr>\n",
       "      <th>19868</th>\n",
       "      <td>0.342857</td>\n",
       "      <td>0.0</td>\n",
       "      <td>0.538860</td>\n",
       "      <td>0.301587</td>\n",
       "      <td>0.294118</td>\n",
       "      <td>0.214286</td>\n",
       "      <td>0.0</td>\n",
       "      <td>0.0</td>\n",
       "      <td>0</td>\n",
       "      <td>0</td>\n",
       "      <td>1</td>\n",
       "      <td>0</td>\n",
       "    </tr>\n",
       "    <tr>\n",
       "      <th>30519</th>\n",
       "      <td>0.542857</td>\n",
       "      <td>0.0</td>\n",
       "      <td>0.559585</td>\n",
       "      <td>0.301587</td>\n",
       "      <td>0.411765</td>\n",
       "      <td>0.214286</td>\n",
       "      <td>0.0</td>\n",
       "      <td>0.0</td>\n",
       "      <td>0</td>\n",
       "      <td>0</td>\n",
       "      <td>1</td>\n",
       "      <td>0</td>\n",
       "    </tr>\n",
       "    <tr>\n",
       "      <th>6438</th>\n",
       "      <td>0.771429</td>\n",
       "      <td>1.0</td>\n",
       "      <td>0.595855</td>\n",
       "      <td>0.306878</td>\n",
       "      <td>0.294118</td>\n",
       "      <td>0.214286</td>\n",
       "      <td>0.5</td>\n",
       "      <td>0.0</td>\n",
       "      <td>1</td>\n",
       "      <td>0</td>\n",
       "      <td>0</td>\n",
       "      <td>1</td>\n",
       "    </tr>\n",
       "    <tr>\n",
       "      <th>29407</th>\n",
       "      <td>0.628571</td>\n",
       "      <td>0.0</td>\n",
       "      <td>0.533679</td>\n",
       "      <td>0.402116</td>\n",
       "      <td>0.411765</td>\n",
       "      <td>0.285714</td>\n",
       "      <td>0.0</td>\n",
       "      <td>0.0</td>\n",
       "      <td>0</td>\n",
       "      <td>0</td>\n",
       "      <td>1</td>\n",
       "      <td>1</td>\n",
       "    </tr>\n",
       "    <tr>\n",
       "      <th>27498</th>\n",
       "      <td>0.914286</td>\n",
       "      <td>0.0</td>\n",
       "      <td>0.518135</td>\n",
       "      <td>0.275132</td>\n",
       "      <td>0.470588</td>\n",
       "      <td>0.214286</td>\n",
       "      <td>0.0</td>\n",
       "      <td>0.0</td>\n",
       "      <td>0</td>\n",
       "      <td>0</td>\n",
       "      <td>0</td>\n",
       "      <td>1</td>\n",
       "    </tr>\n",
       "  </tbody>\n",
       "</table>\n",
       "</div>"
      ],
      "text/plain": [
       "            age  gender    height    weight     ap_hi     ap_lo  cholesterol  \\\n",
       "id                                                                             \n",
       "19868  0.342857     0.0  0.538860  0.301587  0.294118  0.214286          0.0   \n",
       "30519  0.542857     0.0  0.559585  0.301587  0.411765  0.214286          0.0   \n",
       "6438   0.771429     1.0  0.595855  0.306878  0.294118  0.214286          0.5   \n",
       "29407  0.628571     0.0  0.533679  0.402116  0.411765  0.285714          0.0   \n",
       "27498  0.914286     0.0  0.518135  0.275132  0.470588  0.214286          0.0   \n",
       "\n",
       "       gluc  smoke  alco  active  cardio  \n",
       "id                                        \n",
       "19868   0.0      0     0       1       0  \n",
       "30519   0.0      0     0       1       0  \n",
       "6438    0.0      1     0       0       1  \n",
       "29407   0.0      0     0       1       1  \n",
       "27498   0.0      0     0       0       1  "
      ]
     },
     "execution_count": 175,
     "metadata": {},
     "output_type": "execute_result"
    }
   ],
   "source": [
    "df_train.head()"
   ]
  },
  {
   "cell_type": "code",
   "execution_count": 176,
   "id": "amended-literacy",
   "metadata": {},
   "outputs": [
    {
     "data": {
      "text/html": [
       "<div>\n",
       "<style scoped>\n",
       "    .dataframe tbody tr th:only-of-type {\n",
       "        vertical-align: middle;\n",
       "    }\n",
       "\n",
       "    .dataframe tbody tr th {\n",
       "        vertical-align: top;\n",
       "    }\n",
       "\n",
       "    .dataframe thead th {\n",
       "        text-align: right;\n",
       "    }\n",
       "</style>\n",
       "<table border=\"1\" class=\"dataframe\">\n",
       "  <thead>\n",
       "    <tr style=\"text-align: right;\">\n",
       "      <th></th>\n",
       "      <th>age</th>\n",
       "      <th>gender</th>\n",
       "      <th>height</th>\n",
       "      <th>weight</th>\n",
       "      <th>ap_hi</th>\n",
       "      <th>ap_lo</th>\n",
       "      <th>cholesterol</th>\n",
       "      <th>gluc</th>\n",
       "      <th>smoke</th>\n",
       "      <th>alco</th>\n",
       "      <th>active</th>\n",
       "      <th>cardio</th>\n",
       "    </tr>\n",
       "  </thead>\n",
       "  <tbody>\n",
       "    <tr>\n",
       "      <th>count</th>\n",
       "      <td>55004.000000</td>\n",
       "      <td>55004.000000</td>\n",
       "      <td>55004.000000</td>\n",
       "      <td>55004.000000</td>\n",
       "      <td>55004.000000</td>\n",
       "      <td>55004.000000</td>\n",
       "      <td>55004.000000</td>\n",
       "      <td>55004.000000</td>\n",
       "      <td>55004.000000</td>\n",
       "      <td>55004.000000</td>\n",
       "      <td>55004.000000</td>\n",
       "      <td>55004.000000</td>\n",
       "    </tr>\n",
       "    <tr>\n",
       "      <th>mean</th>\n",
       "      <td>0.680988</td>\n",
       "      <td>0.351011</td>\n",
       "      <td>0.556385</td>\n",
       "      <td>0.333906</td>\n",
       "      <td>0.333045</td>\n",
       "      <td>0.224281</td>\n",
       "      <td>0.182741</td>\n",
       "      <td>0.112165</td>\n",
       "      <td>0.088339</td>\n",
       "      <td>0.053832</td>\n",
       "      <td>0.803832</td>\n",
       "      <td>0.496946</td>\n",
       "    </tr>\n",
       "    <tr>\n",
       "      <th>std</th>\n",
       "      <td>0.193353</td>\n",
       "      <td>0.477291</td>\n",
       "      <td>0.042445</td>\n",
       "      <td>0.075764</td>\n",
       "      <td>0.098749</td>\n",
       "      <td>0.069076</td>\n",
       "      <td>0.339748</td>\n",
       "      <td>0.284605</td>\n",
       "      <td>0.283790</td>\n",
       "      <td>0.225689</td>\n",
       "      <td>0.397100</td>\n",
       "      <td>0.499995</td>\n",
       "    </tr>\n",
       "    <tr>\n",
       "      <th>min</th>\n",
       "      <td>0.000000</td>\n",
       "      <td>0.000000</td>\n",
       "      <td>0.000000</td>\n",
       "      <td>0.000000</td>\n",
       "      <td>0.000000</td>\n",
       "      <td>0.000000</td>\n",
       "      <td>0.000000</td>\n",
       "      <td>0.000000</td>\n",
       "      <td>0.000000</td>\n",
       "      <td>0.000000</td>\n",
       "      <td>0.000000</td>\n",
       "      <td>0.000000</td>\n",
       "    </tr>\n",
       "    <tr>\n",
       "      <th>25%</th>\n",
       "      <td>0.542857</td>\n",
       "      <td>0.000000</td>\n",
       "      <td>0.528497</td>\n",
       "      <td>0.285714</td>\n",
       "      <td>0.294118</td>\n",
       "      <td>0.214286</td>\n",
       "      <td>0.000000</td>\n",
       "      <td>0.000000</td>\n",
       "      <td>0.000000</td>\n",
       "      <td>0.000000</td>\n",
       "      <td>1.000000</td>\n",
       "      <td>0.000000</td>\n",
       "    </tr>\n",
       "    <tr>\n",
       "      <th>50%</th>\n",
       "      <td>0.685714</td>\n",
       "      <td>0.000000</td>\n",
       "      <td>0.559585</td>\n",
       "      <td>0.322751</td>\n",
       "      <td>0.294118</td>\n",
       "      <td>0.214286</td>\n",
       "      <td>0.000000</td>\n",
       "      <td>0.000000</td>\n",
       "      <td>0.000000</td>\n",
       "      <td>0.000000</td>\n",
       "      <td>1.000000</td>\n",
       "      <td>0.000000</td>\n",
       "    </tr>\n",
       "    <tr>\n",
       "      <th>75%</th>\n",
       "      <td>0.828571</td>\n",
       "      <td>1.000000</td>\n",
       "      <td>0.585492</td>\n",
       "      <td>0.375661</td>\n",
       "      <td>0.411765</td>\n",
       "      <td>0.285714</td>\n",
       "      <td>0.500000</td>\n",
       "      <td>0.000000</td>\n",
       "      <td>0.000000</td>\n",
       "      <td>0.000000</td>\n",
       "      <td>1.000000</td>\n",
       "      <td>1.000000</td>\n",
       "    </tr>\n",
       "    <tr>\n",
       "      <th>max</th>\n",
       "      <td>1.000000</td>\n",
       "      <td>1.000000</td>\n",
       "      <td>1.000000</td>\n",
       "      <td>1.000000</td>\n",
       "      <td>1.000000</td>\n",
       "      <td>1.000000</td>\n",
       "      <td>1.000000</td>\n",
       "      <td>1.000000</td>\n",
       "      <td>1.000000</td>\n",
       "      <td>1.000000</td>\n",
       "      <td>1.000000</td>\n",
       "      <td>1.000000</td>\n",
       "    </tr>\n",
       "  </tbody>\n",
       "</table>\n",
       "</div>"
      ],
      "text/plain": [
       "                age        gender        height        weight         ap_hi  \\\n",
       "count  55004.000000  55004.000000  55004.000000  55004.000000  55004.000000   \n",
       "mean       0.680988      0.351011      0.556385      0.333906      0.333045   \n",
       "std        0.193353      0.477291      0.042445      0.075764      0.098749   \n",
       "min        0.000000      0.000000      0.000000      0.000000      0.000000   \n",
       "25%        0.542857      0.000000      0.528497      0.285714      0.294118   \n",
       "50%        0.685714      0.000000      0.559585      0.322751      0.294118   \n",
       "75%        0.828571      1.000000      0.585492      0.375661      0.411765   \n",
       "max        1.000000      1.000000      1.000000      1.000000      1.000000   \n",
       "\n",
       "              ap_lo   cholesterol          gluc         smoke          alco  \\\n",
       "count  55004.000000  55004.000000  55004.000000  55004.000000  55004.000000   \n",
       "mean       0.224281      0.182741      0.112165      0.088339      0.053832   \n",
       "std        0.069076      0.339748      0.284605      0.283790      0.225689   \n",
       "min        0.000000      0.000000      0.000000      0.000000      0.000000   \n",
       "25%        0.214286      0.000000      0.000000      0.000000      0.000000   \n",
       "50%        0.214286      0.000000      0.000000      0.000000      0.000000   \n",
       "75%        0.285714      0.500000      0.000000      0.000000      0.000000   \n",
       "max        1.000000      1.000000      1.000000      1.000000      1.000000   \n",
       "\n",
       "             active        cardio  \n",
       "count  55004.000000  55004.000000  \n",
       "mean       0.803832      0.496946  \n",
       "std        0.397100      0.499995  \n",
       "min        0.000000      0.000000  \n",
       "25%        1.000000      0.000000  \n",
       "50%        1.000000      0.000000  \n",
       "75%        1.000000      1.000000  \n",
       "max        1.000000      1.000000  "
      ]
     },
     "execution_count": 176,
     "metadata": {},
     "output_type": "execute_result"
    }
   ],
   "source": [
    "df_train.describe()"
   ]
  },
  {
   "cell_type": "code",
   "execution_count": 177,
   "id": "southern-panama",
   "metadata": {},
   "outputs": [
    {
     "data": {
      "image/png": "[encoded data removed]",
      "text/plain": [
       "<Figure size 1152x720 with 2 Axes>"
      ]
     },
     "metadata": {
      "needs_background": "light"
     },
     "output_type": "display_data"
    }
   ],
   "source": [
    "# Let's check the correlation coefficients to see which variables are highly correlated\n",
    "\n",
    "plt.figure(figsize = (16, 10))\n",
    "sns.heatmap(df_train.corr(), annot = True, cmap=\"YlGnBu\")\n",
    "plt.show()"
   ]
  },
  {
   "cell_type": "code",
   "execution_count": 178,
   "id": "sunset-athens",
   "metadata": {},
   "outputs": [],
   "source": [
    "y_train = df_train.pop('cardio')\n",
    "X_train = df_train\n",
    "\n",
    "y_test = df_test.pop(\"cardio\")\n",
    "X_test = df_test"
   ]
  },
  {
   "cell_type": "markdown",
   "id": "removed-consent",
   "metadata": {},
   "source": [
    "## Feature Selection"
   ]
  },
  {
   "cell_type": "code",
   "execution_count": 195,
   "id": "historic-marketing",
   "metadata": {},
   "outputs": [],
   "source": [
    "from sklearn.linear_model import LogisticRegression"
   ]
  },
  {
   "cell_type": "code",
   "execution_count": 196,
   "id": "wanted-religious",
   "metadata": {},
   "outputs": [],
   "source": [
    "model = LogisticRegression()"
   ]
  },
  {
   "cell_type": "code",
   "execution_count": 197,
   "id": "waiting-platinum",
   "metadata": {},
   "outputs": [],
   "source": [
    "from sklearn.feature_selection import RFE\n",
    "rfe = RFE(model, 9)             # running RFE with 9 variables as output\n",
    "rfe = rfe.fit(X_train, y_train)"
   ]
  },
  {
   "cell_type": "code",
   "execution_count": 198,
   "id": "floral-squad",
   "metadata": {},
   "outputs": [
    {
     "data": {
      "text/plain": [
       "array([ True,  True,  True,  True,  True,  True,  True,  True,  True])"
      ]
     },
     "execution_count": 198,
     "metadata": {},
     "output_type": "execute_result"
    }
   ],
   "source": [
    "rfe.support_"
   ]
  },
  {
   "cell_type": "code",
   "execution_count": 199,
   "id": "close-ratio",
   "metadata": {},
   "outputs": [
    {
     "data": {
      "text/plain": [
       "[('age', True, 1),\n",
       " ('height', True, 1),\n",
       " ('weight', True, 1),\n",
       " ('ap_hi', True, 1),\n",
       " ('ap_lo', True, 1),\n",
       " ('cholesterol', True, 1),\n",
       " ('gluc', True, 1),\n",
       " ('alco', True, 1),\n",
       " ('active', True, 1)]"
      ]
     },
     "execution_count": 199,
     "metadata": {},
     "output_type": "execute_result"
    }
   ],
   "source": [
    "list(zip(X_train.columns, rfe.support_, rfe.ranking_))"
   ]
  },
  {
   "cell_type": "code",
   "execution_count": 200,
   "id": "dress-rwanda",
   "metadata": {},
   "outputs": [],
   "source": [
    "col = X_train.columns[rfe.support_]"
   ]
  },
  {
   "cell_type": "code",
   "execution_count": 201,
   "id": "exclusive-union",
   "metadata": {},
   "outputs": [
    {
     "data": {
      "text/plain": [
       "Index([], dtype='object')"
      ]
     },
     "execution_count": 201,
     "metadata": {},
     "output_type": "execute_result"
    }
   ],
   "source": [
    "X_train.columns[~rfe.support_]"
   ]
  },
  {
   "cell_type": "code",
   "execution_count": 202,
   "id": "still-triangle",
   "metadata": {},
   "outputs": [],
   "source": [
    "X_train = X_train[col]\n",
    "X_test = X_test[col]"
   ]
  },
  {
   "cell_type": "code",
   "execution_count": 203,
   "id": "molecular-sitting",
   "metadata": {},
   "outputs": [
    {
     "data": {
      "text/html": [
       "<div>\n",
       "<style scoped>\n",
       "    .dataframe tbody tr th:only-of-type {\n",
       "        vertical-align: middle;\n",
       "    }\n",
       "\n",
       "    .dataframe tbody tr th {\n",
       "        vertical-align: top;\n",
       "    }\n",
       "\n",
       "    .dataframe thead th {\n",
       "        text-align: right;\n",
       "    }\n",
       "</style>\n",
       "<table border=\"1\" class=\"dataframe\">\n",
       "  <thead>\n",
       "    <tr style=\"text-align: right;\">\n",
       "      <th></th>\n",
       "      <th>age</th>\n",
       "      <th>height</th>\n",
       "      <th>weight</th>\n",
       "      <th>ap_hi</th>\n",
       "      <th>ap_lo</th>\n",
       "      <th>cholesterol</th>\n",
       "      <th>gluc</th>\n",
       "      <th>alco</th>\n",
       "      <th>active</th>\n",
       "    </tr>\n",
       "    <tr>\n",
       "      <th>id</th>\n",
       "      <th></th>\n",
       "      <th></th>\n",
       "      <th></th>\n",
       "      <th></th>\n",
       "      <th></th>\n",
       "      <th></th>\n",
       "      <th></th>\n",
       "      <th></th>\n",
       "      <th></th>\n",
       "    </tr>\n",
       "  </thead>\n",
       "  <tbody>\n",
       "    <tr>\n",
       "      <th>27638</th>\n",
       "      <td>0.514286</td>\n",
       "      <td>0.528497</td>\n",
       "      <td>0.232804</td>\n",
       "      <td>0.235294</td>\n",
       "      <td>0.142857</td>\n",
       "      <td>0.0</td>\n",
       "      <td>0.0</td>\n",
       "      <td>0</td>\n",
       "      <td>1</td>\n",
       "    </tr>\n",
       "    <tr>\n",
       "      <th>88468</th>\n",
       "      <td>0.628571</td>\n",
       "      <td>0.580311</td>\n",
       "      <td>0.386243</td>\n",
       "      <td>0.352941</td>\n",
       "      <td>0.214286</td>\n",
       "      <td>0.0</td>\n",
       "      <td>0.0</td>\n",
       "      <td>0</td>\n",
       "      <td>0</td>\n",
       "    </tr>\n",
       "    <tr>\n",
       "      <th>48430</th>\n",
       "      <td>0.542857</td>\n",
       "      <td>0.606218</td>\n",
       "      <td>0.354497</td>\n",
       "      <td>0.294118</td>\n",
       "      <td>0.214286</td>\n",
       "      <td>0.0</td>\n",
       "      <td>0.0</td>\n",
       "      <td>0</td>\n",
       "      <td>0</td>\n",
       "    </tr>\n",
       "    <tr>\n",
       "      <th>95733</th>\n",
       "      <td>0.800000</td>\n",
       "      <td>0.533679</td>\n",
       "      <td>0.502646</td>\n",
       "      <td>0.294118</td>\n",
       "      <td>0.214286</td>\n",
       "      <td>0.5</td>\n",
       "      <td>0.0</td>\n",
       "      <td>0</td>\n",
       "      <td>1</td>\n",
       "    </tr>\n",
       "    <tr>\n",
       "      <th>96371</th>\n",
       "      <td>0.371429</td>\n",
       "      <td>0.549223</td>\n",
       "      <td>0.269841</td>\n",
       "      <td>0.294118</td>\n",
       "      <td>0.285714</td>\n",
       "      <td>0.0</td>\n",
       "      <td>0.0</td>\n",
       "      <td>0</td>\n",
       "      <td>0</td>\n",
       "    </tr>\n",
       "    <tr>\n",
       "      <th>...</th>\n",
       "      <td>...</td>\n",
       "      <td>...</td>\n",
       "      <td>...</td>\n",
       "      <td>...</td>\n",
       "      <td>...</td>\n",
       "      <td>...</td>\n",
       "      <td>...</td>\n",
       "      <td>...</td>\n",
       "      <td>...</td>\n",
       "    </tr>\n",
       "    <tr>\n",
       "      <th>24254</th>\n",
       "      <td>0.857143</td>\n",
       "      <td>0.512953</td>\n",
       "      <td>0.365079</td>\n",
       "      <td>0.352941</td>\n",
       "      <td>0.285714</td>\n",
       "      <td>0.5</td>\n",
       "      <td>0.5</td>\n",
       "      <td>0</td>\n",
       "      <td>1</td>\n",
       "    </tr>\n",
       "    <tr>\n",
       "      <th>50972</th>\n",
       "      <td>0.514286</td>\n",
       "      <td>0.523316</td>\n",
       "      <td>0.481481</td>\n",
       "      <td>0.294118</td>\n",
       "      <td>0.214286</td>\n",
       "      <td>0.0</td>\n",
       "      <td>1.0</td>\n",
       "      <td>0</td>\n",
       "      <td>1</td>\n",
       "    </tr>\n",
       "    <tr>\n",
       "      <th>53597</th>\n",
       "      <td>0.485714</td>\n",
       "      <td>0.569948</td>\n",
       "      <td>0.301587</td>\n",
       "      <td>0.176471</td>\n",
       "      <td>0.071429</td>\n",
       "      <td>0.5</td>\n",
       "      <td>0.0</td>\n",
       "      <td>0</td>\n",
       "      <td>1</td>\n",
       "    </tr>\n",
       "    <tr>\n",
       "      <th>73479</th>\n",
       "      <td>1.000000</td>\n",
       "      <td>0.487047</td>\n",
       "      <td>0.343915</td>\n",
       "      <td>0.352941</td>\n",
       "      <td>0.285714</td>\n",
       "      <td>0.0</td>\n",
       "      <td>0.0</td>\n",
       "      <td>0</td>\n",
       "      <td>1</td>\n",
       "    </tr>\n",
       "    <tr>\n",
       "      <th>10946</th>\n",
       "      <td>0.314286</td>\n",
       "      <td>0.559585</td>\n",
       "      <td>0.285714</td>\n",
       "      <td>0.294118</td>\n",
       "      <td>0.214286</td>\n",
       "      <td>0.0</td>\n",
       "      <td>0.0</td>\n",
       "      <td>0</td>\n",
       "      <td>1</td>\n",
       "    </tr>\n",
       "  </tbody>\n",
       "</table>\n",
       "<p>13751 rows × 9 columns</p>\n",
       "</div>"
      ],
      "text/plain": [
       "            age    height    weight     ap_hi     ap_lo  cholesterol  gluc  \\\n",
       "id                                                                           \n",
       "27638  0.514286  0.528497  0.232804  0.235294  0.142857          0.0   0.0   \n",
       "88468  0.628571  0.580311  0.386243  0.352941  0.214286          0.0   0.0   \n",
       "48430  0.542857  0.606218  0.354497  0.294118  0.214286          0.0   0.0   \n",
       "95733  0.800000  0.533679  0.502646  0.294118  0.214286          0.5   0.0   \n",
       "96371  0.371429  0.549223  0.269841  0.294118  0.285714          0.0   0.0   \n",
       "...         ...       ...       ...       ...       ...          ...   ...   \n",
       "24254  0.857143  0.512953  0.365079  0.352941  0.285714          0.5   0.5   \n",
       "50972  0.514286  0.523316  0.481481  0.294118  0.214286          0.0   1.0   \n",
       "53597  0.485714  0.569948  0.301587  0.176471  0.071429          0.5   0.0   \n",
       "73479  1.000000  0.487047  0.343915  0.352941  0.285714          0.0   0.0   \n",
       "10946  0.314286  0.559585  0.285714  0.294118  0.214286          0.0   0.0   \n",
       "\n",
       "       alco  active  \n",
       "id                   \n",
       "27638     0       1  \n",
       "88468     0       0  \n",
       "48430     0       0  \n",
       "95733     0       1  \n",
       "96371     0       0  \n",
       "...     ...     ...  \n",
       "24254     0       1  \n",
       "50972     0       1  \n",
       "53597     0       1  \n",
       "73479     0       1  \n",
       "10946     0       1  \n",
       "\n",
       "[13751 rows x 9 columns]"
      ]
     },
     "execution_count": 203,
     "metadata": {},
     "output_type": "execute_result"
    }
   ],
   "source": [
    "X_test"
   ]
  },
  {
   "cell_type": "markdown",
   "id": "continuous-berlin",
   "metadata": {},
   "source": [
    "## Logistic Regression"
   ]
  },
  {
   "cell_type": "code",
   "execution_count": 204,
   "id": "wireless-proof",
   "metadata": {},
   "outputs": [
    {
     "data": {
      "text/plain": [
       "LogisticRegression()"
      ]
     },
     "execution_count": 204,
     "metadata": {},
     "output_type": "execute_result"
    }
   ],
   "source": [
    "model.fit(X_train, y_train)"
   ]
  },
  {
   "cell_type": "code",
   "execution_count": 205,
   "id": "centered-basic",
   "metadata": {},
   "outputs": [
    {
     "data": {
      "text/plain": [
       "array([0, 1, 0, ..., 0, 1, 0], dtype=int64)"
      ]
     },
     "execution_count": 205,
     "metadata": {},
     "output_type": "execute_result"
    }
   ],
   "source": [
    "# Predict for One Observation (image)\n",
    "model.predict(X_test)"
   ]
  },
  {
   "cell_type": "code",
   "execution_count": 206,
   "id": "patient-uniform",
   "metadata": {},
   "outputs": [],
   "source": [
    "predictions = model.predict(X_test)"
   ]
  },
  {
   "cell_type": "code",
   "execution_count": 207,
   "id": "adjacent-senegal",
   "metadata": {},
   "outputs": [
    {
     "name": "stdout",
     "output_type": "stream",
     "text": [
      "Accuracy is: 0.7283106683150317\n"
     ]
    }
   ],
   "source": [
    "from sklearn import metrics\n",
    "\n",
    "accuracy = metrics.accuracy_score(y_test, predictions)\n",
    "print('Accuracy is:',accuracy)"
   ]
  },
  {
   "cell_type": "code",
   "execution_count": 210,
   "id": "established-arizona",
   "metadata": {},
   "outputs": [
    {
     "name": "stdout",
     "output_type": "stream",
     "text": [
      "Accuracy of LogisticRegression() : 0.73\n",
      "ROC AUC Score of LogisticRegression() : 0.73\n",
      "Confusion Matrix of LogisticRegression() : \n",
      "\n"
     ]
    },
    {
     "data": {
      "image/png": "[encoded data removed]",
      "text/plain": [
       "<Figure size 360x360 with 2 Axes>"
      ]
     },
     "metadata": {
      "needs_background": "light"
     },
     "output_type": "display_data"
    }
   ],
   "source": [
    "from sklearn import metrics\n",
    "from sklearn.metrics import accuracy_score,roc_auc_score,confusion_matrix\n",
    "cm = metrics.confusion_matrix(y_test, predictions)\n",
    "accuracy = metrics.accuracy_score(y_test, predictions)\n",
    "roc_auc = roc_auc_score(y_test, predictions, average='weighted')\n",
    "    \n",
    "print(\"Accuracy of\",model,\": {:.2f}\".format(accuracy))\n",
    "print(\"ROC AUC Score of\", model,\": {:.2f}\".format(roc_auc))\n",
    "print(\"Confusion Matrix of\", model,\": \\n\")\n",
    "    \n",
    "plt.figure(figsize=(5,5))\n",
    "sns.heatmap(cm, annot=True, fmt=\".3f\", linewidths=.5, square = True, cmap = 'Blues');\n",
    "plt.ylabel('Actual label');\n",
    "plt.xlabel('Predicted label');\n",
    "title = 'AUC-ROC Score: {:.2f}'.format(roc_auc)\n",
    "plt.title(title)\n",
    "plt.show()"
   ]
  },
  {
   "cell_type": "code",
   "execution_count": 211,
   "id": "sublime-female",
   "metadata": {},
   "outputs": [
    {
     "name": "stdout",
     "output_type": "stream",
     "text": [
      "Precision is: 0.729520077150192\n"
     ]
    }
   ],
   "source": [
    "from sklearn import metrics\n",
    "\n",
    "# For precision of each class individually use average= None\n",
    "precision = metrics.precision_score(y_test, predictions, average='macro')\n",
    "print('Precision is:',precision)"
   ]
  },
  {
   "cell_type": "code",
   "execution_count": 212,
   "id": "substantial-eating",
   "metadata": {},
   "outputs": [
    {
     "name": "stdout",
     "output_type": "stream",
     "text": [
      "Recall is: 0.7270409947511822\n"
     ]
    }
   ],
   "source": [
    "from sklearn import metrics\n",
    "\n",
    "# For recall of each class individually use average= None\n",
    "recall = metrics.recall_score(y_test, predictions, average='macro')\n",
    "print('Recall is:',recall)"
   ]
  },
  {
   "cell_type": "code",
   "execution_count": 213,
   "id": "spatial-mediterranean",
   "metadata": {},
   "outputs": [
    {
     "name": "stdout",
     "output_type": "stream",
     "text": [
      "F1 Score is: 0.7270864020820884\n"
     ]
    }
   ],
   "source": [
    "from sklearn import metrics\n",
    "\n",
    "# For recall of each class individually use average= None\n",
    "f1_score_value = metrics.f1_score(y_test, predictions, average='macro')\n",
    "print('F1 Score is:',f1_score_value)"
   ]
  },
  {
   "cell_type": "markdown",
   "id": "direct-charger",
   "metadata": {},
   "source": [
    "## Decision Trees"
   ]
  },
  {
   "cell_type": "code",
   "execution_count": 214,
   "id": "written-fourth",
   "metadata": {},
   "outputs": [],
   "source": [
    "from sklearn.tree import DecisionTreeClassifier\n",
    "from sklearn.model_selection import GridSearchCV"
   ]
  },
  {
   "cell_type": "code",
   "execution_count": 215,
   "id": "governmental-clothing",
   "metadata": {},
   "outputs": [],
   "source": [
    "dt = DecisionTreeClassifier(max_depth=3)"
   ]
  },
  {
   "cell_type": "code",
   "execution_count": 216,
   "id": "maritime-showcase",
   "metadata": {},
   "outputs": [],
   "source": [
    "# Create the parameter grid based on the results of random search \n",
    "params = {\n",
    "    'max_depth': [2, 3, 5, 10, 20],\n",
    "    'min_samples_leaf': [5, 10, 20, 50, 100],\n",
    "    'criterion': [\"gini\", \"entropy\"]\n",
    "}"
   ]
  },
  {
   "cell_type": "code",
   "execution_count": 217,
   "id": "sufficient-mainstream",
   "metadata": {},
   "outputs": [],
   "source": [
    "# Instantiate the grid search model\n",
    "grid_search = GridSearchCV(estimator=dt, \n",
    "                           param_grid=params, \n",
    "                           cv=4, n_jobs=-1, verbose=1, scoring = \"accuracy\")"
   ]
  },
  {
   "cell_type": "code",
   "execution_count": 218,
   "id": "selected-donna",
   "metadata": {},
   "outputs": [
    {
     "name": "stdout",
     "output_type": "stream",
     "text": [
      "Fitting 4 folds for each of 50 candidates, totalling 200 fits\n"
     ]
    },
    {
     "name": "stderr",
     "output_type": "stream",
     "text": [
      "[Parallel(n_jobs=-1)]: Using backend LokyBackend with 8 concurrent workers.\n",
      "[Parallel(n_jobs=-1)]: Done  34 tasks      | elapsed:    3.0s\n"
     ]
    },
    {
     "name": "stdout",
     "output_type": "stream",
     "text": [
      "Wall time: 6.31 s\n"
     ]
    },
    {
     "name": "stderr",
     "output_type": "stream",
     "text": [
      "[Parallel(n_jobs=-1)]: Done 200 out of 200 | elapsed:    6.0s finished\n"
     ]
    },
    {
     "data": {
      "text/plain": [
       "GridSearchCV(cv=4, estimator=DecisionTreeClassifier(max_depth=3), n_jobs=-1,\n",
       "             param_grid={'criterion': ['gini', 'entropy'],\n",
       "                         'max_depth': [2, 3, 5, 10, 20],\n",
       "                         'min_samples_leaf': [5, 10, 20, 50, 100]},\n",
       "             scoring='accuracy', verbose=1)"
      ]
     },
     "execution_count": 218,
     "metadata": {},
     "output_type": "execute_result"
    }
   ],
   "source": [
    "%%time\n",
    "grid_search.fit(X_train, y_train)"
   ]
  },
  {
   "cell_type": "code",
   "execution_count": 219,
   "id": "fantastic-jones",
   "metadata": {},
   "outputs": [
    {
     "data": {
      "text/html": [
       "<div>\n",
       "<style scoped>\n",
       "    .dataframe tbody tr th:only-of-type {\n",
       "        vertical-align: middle;\n",
       "    }\n",
       "\n",
       "    .dataframe tbody tr th {\n",
       "        vertical-align: top;\n",
       "    }\n",
       "\n",
       "    .dataframe thead th {\n",
       "        text-align: right;\n",
       "    }\n",
       "</style>\n",
       "<table border=\"1\" class=\"dataframe\">\n",
       "  <thead>\n",
       "    <tr style=\"text-align: right;\">\n",
       "      <th></th>\n",
       "      <th>mean_fit_time</th>\n",
       "      <th>std_fit_time</th>\n",
       "      <th>mean_score_time</th>\n",
       "      <th>std_score_time</th>\n",
       "      <th>param_criterion</th>\n",
       "      <th>param_max_depth</th>\n",
       "      <th>param_min_samples_leaf</th>\n",
       "      <th>params</th>\n",
       "      <th>split0_test_score</th>\n",
       "      <th>split1_test_score</th>\n",
       "      <th>split2_test_score</th>\n",
       "      <th>split3_test_score</th>\n",
       "      <th>mean_test_score</th>\n",
       "      <th>std_test_score</th>\n",
       "      <th>rank_test_score</th>\n",
       "    </tr>\n",
       "  </thead>\n",
       "  <tbody>\n",
       "    <tr>\n",
       "      <th>0</th>\n",
       "      <td>0.052003</td>\n",
       "      <td>0.002660</td>\n",
       "      <td>0.007601</td>\n",
       "      <td>0.000526</td>\n",
       "      <td>gini</td>\n",
       "      <td>2</td>\n",
       "      <td>5</td>\n",
       "      <td>{'criterion': 'gini', 'max_depth': 2, 'min_sam...</td>\n",
       "      <td>0.708676</td>\n",
       "      <td>0.715439</td>\n",
       "      <td>0.716021</td>\n",
       "      <td>0.708894</td>\n",
       "      <td>0.712257</td>\n",
       "      <td>0.003479</td>\n",
       "      <td>37</td>\n",
       "    </tr>\n",
       "    <tr>\n",
       "      <th>1</th>\n",
       "      <td>0.048931</td>\n",
       "      <td>0.001904</td>\n",
       "      <td>0.007741</td>\n",
       "      <td>0.000745</td>\n",
       "      <td>gini</td>\n",
       "      <td>2</td>\n",
       "      <td>10</td>\n",
       "      <td>{'criterion': 'gini', 'max_depth': 2, 'min_sam...</td>\n",
       "      <td>0.708676</td>\n",
       "      <td>0.715439</td>\n",
       "      <td>0.716021</td>\n",
       "      <td>0.708894</td>\n",
       "      <td>0.712257</td>\n",
       "      <td>0.003479</td>\n",
       "      <td>37</td>\n",
       "    </tr>\n",
       "    <tr>\n",
       "      <th>2</th>\n",
       "      <td>0.041777</td>\n",
       "      <td>0.001962</td>\n",
       "      <td>0.007114</td>\n",
       "      <td>0.001003</td>\n",
       "      <td>gini</td>\n",
       "      <td>2</td>\n",
       "      <td>20</td>\n",
       "      <td>{'criterion': 'gini', 'max_depth': 2, 'min_sam...</td>\n",
       "      <td>0.708676</td>\n",
       "      <td>0.715439</td>\n",
       "      <td>0.716021</td>\n",
       "      <td>0.708894</td>\n",
       "      <td>0.712257</td>\n",
       "      <td>0.003479</td>\n",
       "      <td>37</td>\n",
       "    </tr>\n",
       "    <tr>\n",
       "      <th>3</th>\n",
       "      <td>0.036908</td>\n",
       "      <td>0.000738</td>\n",
       "      <td>0.006101</td>\n",
       "      <td>0.001044</td>\n",
       "      <td>gini</td>\n",
       "      <td>2</td>\n",
       "      <td>50</td>\n",
       "      <td>{'criterion': 'gini', 'max_depth': 2, 'min_sam...</td>\n",
       "      <td>0.708676</td>\n",
       "      <td>0.715439</td>\n",
       "      <td>0.716021</td>\n",
       "      <td>0.708894</td>\n",
       "      <td>0.712257</td>\n",
       "      <td>0.003479</td>\n",
       "      <td>37</td>\n",
       "    </tr>\n",
       "    <tr>\n",
       "      <th>4</th>\n",
       "      <td>0.036499</td>\n",
       "      <td>0.001566</td>\n",
       "      <td>0.005242</td>\n",
       "      <td>0.001095</td>\n",
       "      <td>gini</td>\n",
       "      <td>2</td>\n",
       "      <td>100</td>\n",
       "      <td>{'criterion': 'gini', 'max_depth': 2, 'min_sam...</td>\n",
       "      <td>0.708676</td>\n",
       "      <td>0.715439</td>\n",
       "      <td>0.716021</td>\n",
       "      <td>0.708894</td>\n",
       "      <td>0.712257</td>\n",
       "      <td>0.003479</td>\n",
       "      <td>37</td>\n",
       "    </tr>\n",
       "  </tbody>\n",
       "</table>\n",
       "</div>"
      ],
      "text/plain": [
       "   mean_fit_time  std_fit_time  mean_score_time  std_score_time  \\\n",
       "0       0.052003      0.002660         0.007601        0.000526   \n",
       "1       0.048931      0.001904         0.007741        0.000745   \n",
       "2       0.041777      0.001962         0.007114        0.001003   \n",
       "3       0.036908      0.000738         0.006101        0.001044   \n",
       "4       0.036499      0.001566         0.005242        0.001095   \n",
       "\n",
       "  param_criterion param_max_depth param_min_samples_leaf  \\\n",
       "0            gini               2                      5   \n",
       "1            gini               2                     10   \n",
       "2            gini               2                     20   \n",
       "3            gini               2                     50   \n",
       "4            gini               2                    100   \n",
       "\n",
       "                                              params  split0_test_score  \\\n",
       "0  {'criterion': 'gini', 'max_depth': 2, 'min_sam...           0.708676   \n",
       "1  {'criterion': 'gini', 'max_depth': 2, 'min_sam...           0.708676   \n",
       "2  {'criterion': 'gini', 'max_depth': 2, 'min_sam...           0.708676   \n",
       "3  {'criterion': 'gini', 'max_depth': 2, 'min_sam...           0.708676   \n",
       "4  {'criterion': 'gini', 'max_depth': 2, 'min_sam...           0.708676   \n",
       "\n",
       "   split1_test_score  split2_test_score  split3_test_score  mean_test_score  \\\n",
       "0           0.715439           0.716021           0.708894         0.712257   \n",
       "1           0.715439           0.716021           0.708894         0.712257   \n",
       "2           0.715439           0.716021           0.708894         0.712257   \n",
       "3           0.715439           0.716021           0.708894         0.712257   \n",
       "4           0.715439           0.716021           0.708894         0.712257   \n",
       "\n",
       "   std_test_score  rank_test_score  \n",
       "0        0.003479               37  \n",
       "1        0.003479               37  \n",
       "2        0.003479               37  \n",
       "3        0.003479               37  \n",
       "4        0.003479               37  "
      ]
     },
     "execution_count": 219,
     "metadata": {},
     "output_type": "execute_result"
    }
   ],
   "source": [
    "score_df = pd.DataFrame(grid_search.cv_results_)\n",
    "score_df.head()"
   ]
  },
  {
   "cell_type": "code",
   "execution_count": 220,
   "id": "earlier-blond",
   "metadata": {},
   "outputs": [],
   "source": [
    "dt_best = grid_search.best_estimator_"
   ]
  },
  {
   "cell_type": "code",
   "execution_count": 221,
   "id": "qualified-medicare",
   "metadata": {},
   "outputs": [
    {
     "data": {
      "text/plain": [
       "DecisionTreeClassifier(criterion='entropy', max_depth=5, min_samples_leaf=20)"
      ]
     },
     "execution_count": 221,
     "metadata": {},
     "output_type": "execute_result"
    }
   ],
   "source": [
    "dt_best"
   ]
  },
  {
   "cell_type": "code",
   "execution_count": 222,
   "id": "brilliant-million",
   "metadata": {},
   "outputs": [],
   "source": [
    "from sklearn.metrics import confusion_matrix, accuracy_score"
   ]
  },
  {
   "cell_type": "code",
   "execution_count": 233,
   "id": "creative-spencer",
   "metadata": {},
   "outputs": [
    {
     "name": "stdout",
     "output_type": "stream",
     "text": [
      "Train Accuracy : 0.7318558650279979\n",
      "Accuracy of DecisionTreeClassifier(criterion='entropy', max_depth=5, min_samples_leaf=20) : 0.73\n",
      "ROC AUC Score of DecisionTreeClassifier(criterion='entropy', max_depth=5, min_samples_leaf=20) : 0.73\n",
      "Confusion Matrix of DecisionTreeClassifier(criterion='entropy', max_depth=5, min_samples_leaf=20) : \n",
      "\n"
     ]
    },
    {
     "data": {
      "image/png": "[encoded data removed]",
      "text/plain": [
       "<Figure size 360x360 with 2 Axes>"
      ]
     },
     "metadata": {
      "needs_background": "light"
     },
     "output_type": "display_data"
    },
    {
     "name": "stdout",
     "output_type": "stream",
     "text": [
      "--------------------------------------------------\n",
      "Test Accuracy : 0.7334739291687877\n",
      "Accuracy of DecisionTreeClassifier(criterion='entropy', max_depth=5, min_samples_leaf=20) : 0.73\n",
      "ROC AUC Score of DecisionTreeClassifier(criterion='entropy', max_depth=5, min_samples_leaf=20) : 0.73\n",
      "Confusion Matrix of DecisionTreeClassifier(criterion='entropy', max_depth=5, min_samples_leaf=20) : \n",
      "\n"
     ]
    },
    {
     "data": {
      "image/png": "[encoded data removed]",
      "text/plain": [
       "<Figure size 360x360 with 2 Axes>"
      ]
     },
     "metadata": {
      "needs_background": "light"
     },
     "output_type": "display_data"
    }
   ],
   "source": [
    "print(\"Train Accuracy :\", accuracy_score(y_train, dt_best.predict(X_train)))\n",
    "cm = metrics.confusion_matrix(y_train, dt_best.predict(X_train))\n",
    "accuracy = metrics.accuracy_score(y_train, dt_best.predict(X_train))\n",
    "roc_auc = roc_auc_score(y_train, dt_best.predict(X_train), average='weighted')\n",
    "    \n",
    "print(\"Accuracy of\",dt_best,\": {:.2f}\".format(accuracy))\n",
    "print(\"ROC AUC Score of\", dt_best,\": {:.2f}\".format(roc_auc))\n",
    "print(\"Confusion Matrix of\", dt_best,\": \\n\")\n",
    "    \n",
    "plt.figure(figsize=(5,5))\n",
    "sns.heatmap(cm, annot=True, fmt=\".3f\", linewidths=.5, square = True, cmap = 'Blues');\n",
    "plt.ylabel('Actual label');\n",
    "plt.xlabel('Predicted label');\n",
    "title = 'AUC-ROC Score: {:.2f}'.format(roc_auc)\n",
    "plt.title(title)\n",
    "plt.show()\n",
    "\n",
    "print(\"-\"*50)\n",
    "print(\"Test Accuracy :\", accuracy_score(y_test, dt_best.predict(X_test)))\n",
    "cm = metrics.confusion_matrix(y_test, dt_best.predict(X_test))\n",
    "accuracy = metrics.accuracy_score(y_test, dt_best.predict(X_test))\n",
    "roc_auc = roc_auc_score(y_test, dt_best.predict(X_test), average='weighted')\n",
    "    \n",
    "print(\"Accuracy of\",dt_best,\": {:.2f}\".format(accuracy))\n",
    "print(\"ROC AUC Score of\", dt_best,\": {:.2f}\".format(roc_auc))\n",
    "print(\"Confusion Matrix of\", dt_best,\": \\n\")\n",
    "    \n",
    "plt.figure(figsize=(5,5))\n",
    "sns.heatmap(cm, annot=True, fmt=\".3f\", linewidths=.5, square = True, cmap = 'Oranges');\n",
    "plt.ylabel('Actual label');\n",
    "plt.xlabel('Predicted label');\n",
    "title = 'AUC-ROC Score: {:.2f}'.format(roc_auc)\n",
    "plt.title(title)\n",
    "plt.show()\n",
    "\n"
   ]
  },
  {
   "cell_type": "markdown",
   "id": "daily-puppy",
   "metadata": {},
   "source": [
    "## Random Forest"
   ]
  },
  {
   "cell_type": "code",
   "execution_count": 234,
   "id": "laughing-collaboration",
   "metadata": {},
   "outputs": [],
   "source": [
    "from sklearn.ensemble import RandomForestClassifier"
   ]
  },
  {
   "cell_type": "code",
   "execution_count": 235,
   "id": "adjusted-packing",
   "metadata": {},
   "outputs": [],
   "source": [
    "rf = RandomForestClassifier(random_state=0, n_estimators=10, max_depth=3)"
   ]
  },
  {
   "cell_type": "code",
   "execution_count": 236,
   "id": "caroline-fighter",
   "metadata": {},
   "outputs": [
    {
     "data": {
      "text/plain": [
       "RandomForestClassifier(max_depth=3, n_estimators=10, random_state=0)"
      ]
     },
     "execution_count": 236,
     "metadata": {},
     "output_type": "execute_result"
    }
   ],
   "source": [
    "rf.fit(X_train, y_train)"
   ]
  },
  {
   "cell_type": "code",
   "execution_count": 244,
   "id": "adverse-richmond",
   "metadata": {},
   "outputs": [
    {
     "name": "stdout",
     "output_type": "stream",
     "text": [
      "Train Accuracy : 0.721220274889099\n",
      "Accuracy of RandomForestClassifier(max_depth=3, n_estimators=10, random_state=0) : 0.72\n",
      "ROC AUC Score of RandomForestClassifier(max_depth=3, n_estimators=10, random_state=0) : 0.72\n",
      "Confusion Matrix of RandomForestClassifier(max_depth=3, n_estimators=10, random_state=0) : \n",
      "\n"
     ]
    },
    {
     "data": {
      "image/png": "[encoded data removed]",
      "text/plain": [
       "<Figure size 360x360 with 2 Axes>"
      ]
     },
     "metadata": {
      "needs_background": "light"
     },
     "output_type": "display_data"
    },
    {
     "name": "stdout",
     "output_type": "stream",
     "text": [
      "--------------------------------------------------\n",
      "Test Accuracy : 0.7224929096065741\n",
      "Accuracy of RandomForestClassifier(max_depth=3, n_estimators=10, random_state=0) : 0.72\n",
      "ROC AUC Score of RandomForestClassifier(max_depth=3, n_estimators=10, random_state=0) : 0.72\n",
      "Confusion Matrix of RandomForestClassifier(max_depth=3, n_estimators=10, random_state=0) : \n",
      "\n"
     ]
    },
    {
     "data": {
      "image/png": "[encoded data removed]",
      "text/plain": [
       "<Figure size 360x360 with 2 Axes>"
      ]
     },
     "metadata": {
      "needs_background": "light"
     },
     "output_type": "display_data"
    }
   ],
   "source": [
    "print(\"Train Accuracy :\", accuracy_score(y_train, rf.predict(X_train)))\n",
    "cm = metrics.confusion_matrix(y_train, rf.predict(X_train))\n",
    "accuracy = metrics.accuracy_score(y_train, rf.predict(X_train))\n",
    "roc_auc = roc_auc_score(y_train, rf.predict(X_train), average='weighted')\n",
    "    \n",
    "print(\"Accuracy of\",rf,\": {:.2f}\".format(accuracy))\n",
    "print(\"ROC AUC Score of\", rf,\": {:.2f}\".format(roc_auc))\n",
    "print(\"Confusion Matrix of\", rf,\": \\n\")\n",
    "    \n",
    "plt.figure(figsize=(5,5))\n",
    "sns.heatmap(cm, annot=True, fmt=\".3f\", linewidths=.5, square = True, cmap = 'Blues');\n",
    "plt.ylabel('Actual label');\n",
    "plt.xlabel('Predicted label');\n",
    "title = 'AUC-ROC Score: {:.2f}'.format(roc_auc)\n",
    "plt.title(title)\n",
    "plt.show()\n",
    "\n",
    "print(\"-\"*50)\n",
    "print(\"Test Accuracy :\", accuracy_score(y_test, rf.predict(X_test)))\n",
    "cm = metrics.confusion_matrix(y_test, rf.predict(X_test))\n",
    "accuracy = metrics.accuracy_score(y_test, rf.predict(X_test))\n",
    "roc_auc = roc_auc_score(y_test, rf.predict(X_test), average='weighted')\n",
    "    \n",
    "print(\"Accuracy of\",rf,\": {:.2f}\".format(accuracy))\n",
    "print(\"ROC AUC Score of\", rf,\": {:.2f}\".format(roc_auc))\n",
    "print(\"Confusion Matrix of\", rf,\": \\n\")\n",
    "    \n",
    "plt.figure(figsize=(5,5))\n",
    "sns.heatmap(cm, annot=True, fmt=\".3f\", linewidths=.5, square = True, cmap = 'Oranges');\n",
    "plt.ylabel('Actual label');\n",
    "plt.xlabel('Predicted label');\n",
    "title = 'AUC-ROC Score: {:.2f}'.format(roc_auc)\n",
    "plt.title(title)\n",
    "plt.show()\n"
   ]
  },
  {
   "cell_type": "code",
   "execution_count": 238,
   "id": "exact-airport",
   "metadata": {},
   "outputs": [],
   "source": [
    "#hyperparameter tuning\n",
    "classifier_rf = RandomForestClassifier(random_state=0, n_jobs=-1)"
   ]
  },
  {
   "cell_type": "code",
   "execution_count": 239,
   "id": "fundamental-flower",
   "metadata": {},
   "outputs": [],
   "source": [
    "# Create the parameter grid based on the results of random search \n",
    "params = {\n",
    "    'max_depth': [1, 2, 3, 10, 12,18, 20],\n",
    "    'min_samples_leaf': [5, 10, 12, 20, 50, 85, 100],\n",
    "    'max_features': [2,3, 6],\n",
    "    'n_estimators': [10, 20,30, 50,  100,  200]\n",
    "}"
   ]
  },
  {
   "cell_type": "code",
   "execution_count": 240,
   "id": "divided-office",
   "metadata": {},
   "outputs": [],
   "source": [
    "# Instantiate the grid search model\n",
    "grid_search = GridSearchCV(estimator=classifier_rf, param_grid=params, \n",
    "                          cv=4, n_jobs=-1, verbose=1, scoring = \"accuracy\")"
   ]
  },
  {
   "cell_type": "code",
   "execution_count": 241,
   "id": "hindu-spending",
   "metadata": {},
   "outputs": [
    {
     "name": "stdout",
     "output_type": "stream",
     "text": [
      "Fitting 4 folds for each of 882 candidates, totalling 3528 fits\n"
     ]
    },
    {
     "name": "stderr",
     "output_type": "stream",
     "text": [
      "[Parallel(n_jobs=-1)]: Using backend LokyBackend with 8 concurrent workers.\n",
      "[Parallel(n_jobs=-1)]: Done  34 tasks      | elapsed:    6.2s\n",
      "[Parallel(n_jobs=-1)]: Done 184 tasks      | elapsed:   29.0s\n",
      "[Parallel(n_jobs=-1)]: Done 434 tasks      | elapsed:  1.3min\n",
      "[Parallel(n_jobs=-1)]: Done 784 tasks      | elapsed:  2.5min\n",
      "[Parallel(n_jobs=-1)]: Done 1234 tasks      | elapsed:  4.5min\n",
      "[Parallel(n_jobs=-1)]: Done 1784 tasks      | elapsed:  7.8min\n",
      "[Parallel(n_jobs=-1)]: Done 2434 tasks      | elapsed: 14.5min\n",
      "[Parallel(n_jobs=-1)]: Done 3184 tasks      | elapsed: 22.5min\n",
      "[Parallel(n_jobs=-1)]: Done 3528 out of 3528 | elapsed: 26.8min finished\n"
     ]
    },
    {
     "name": "stdout",
     "output_type": "stream",
     "text": [
      "Wall time: 26min 54s\n"
     ]
    },
    {
     "data": {
      "text/plain": [
       "GridSearchCV(cv=4, estimator=RandomForestClassifier(n_jobs=-1, random_state=0),\n",
       "             n_jobs=-1,\n",
       "             param_grid={'max_depth': [1, 2, 3, 10, 12, 18, 20],\n",
       "                         'max_features': [2, 3, 6],\n",
       "                         'min_samples_leaf': [5, 10, 12, 20, 50, 85, 100],\n",
       "                         'n_estimators': [10, 20, 30, 50, 100, 200]},\n",
       "             scoring='accuracy', verbose=1)"
      ]
     },
     "execution_count": 241,
     "metadata": {},
     "output_type": "execute_result"
    }
   ],
   "source": [
    "%%time\n",
    "grid_search.fit(X_train,y_train)"
   ]
  },
  {
   "cell_type": "code",
   "execution_count": 242,
   "id": "english-costs",
   "metadata": {},
   "outputs": [],
   "source": [
    "rf_best = grid_search.best_estimator_"
   ]
  },
  {
   "cell_type": "code",
   "execution_count": 243,
   "id": "boring-franchise",
   "metadata": {},
   "outputs": [
    {
     "name": "stdout",
     "output_type": "stream",
     "text": [
      "Train Accuracy : 0.7607264926187186\n",
      "Accuracy of RandomForestClassifier(max_depth=18, max_features=3, min_samples_leaf=12,\n",
      "                       n_estimators=200, n_jobs=-1, random_state=0) : 0.76\n",
      "ROC AUC Score of RandomForestClassifier(max_depth=18, max_features=3, min_samples_leaf=12,\n",
      "                       n_estimators=200, n_jobs=-1, random_state=0) : 0.76\n",
      "Confusion Matrix of RandomForestClassifier(max_depth=18, max_features=3, min_samples_leaf=12,\n",
      "                       n_estimators=200, n_jobs=-1, random_state=0) : \n",
      "\n"
     ]
    },
    {
     "data": {
      "image/png": "[encoded data removed]",
      "text/plain": [
       "<Figure size 360x360 with 2 Axes>"
      ]
     },
     "metadata": {
      "needs_background": "light"
     },
     "output_type": "display_data"
    },
    {
     "name": "stdout",
     "output_type": "stream",
     "text": [
      "--------------------------------------------------\n",
      "Test Accuracy : 0.7352919787651807\n",
      "Accuracy of RandomForestClassifier(max_depth=18, max_features=3, min_samples_leaf=12,\n",
      "                       n_estimators=200, n_jobs=-1, random_state=0) : 0.74\n",
      "ROC AUC Score of RandomForestClassifier(max_depth=18, max_features=3, min_samples_leaf=12,\n",
      "                       n_estimators=200, n_jobs=-1, random_state=0) : 0.73\n",
      "Confusion Matrix of RandomForestClassifier(max_depth=18, max_features=3, min_samples_leaf=12,\n",
      "                       n_estimators=200, n_jobs=-1, random_state=0) : \n",
      "\n"
     ]
    },
    {
     "data": {
      "image/png": "[encoded data removed]",
      "text/plain": [
       "<Figure size 360x360 with 2 Axes>"
      ]
     },
     "metadata": {
      "needs_background": "light"
     },
     "output_type": "display_data"
    }
   ],
   "source": [
    "print(\"Train Accuracy :\", accuracy_score(y_train, rf_best.predict(X_train)))\n",
    "cm = metrics.confusion_matrix(y_train, rf_best.predict(X_train))\n",
    "accuracy = metrics.accuracy_score(y_train, rf_best.predict(X_train))\n",
    "roc_auc = roc_auc_score(y_train, rf_best.predict(X_train), average='weighted')\n",
    "    \n",
    "print(\"Accuracy of\",rf_best,\": {:.2f}\".format(accuracy))\n",
    "print(\"ROC AUC Score of\", rf_best,\": {:.2f}\".format(roc_auc))\n",
    "print(\"Confusion Matrix of\", rf_best,\": \\n\")\n",
    "    \n",
    "plt.figure(figsize=(5,5))\n",
    "sns.heatmap(cm, annot=True, fmt=\".3f\", linewidths=.5, square = True, cmap = 'Blues');\n",
    "plt.ylabel('Actual label');\n",
    "plt.xlabel('Predicted label');\n",
    "title = 'AUC-ROC Score: {:.2f}'.format(roc_auc)\n",
    "plt.title(title)\n",
    "plt.show()\n",
    "\n",
    "print(\"-\"*50)\n",
    "print(\"Test Accuracy :\", accuracy_score(y_test, rf_best.predict(X_test)))\n",
    "cm = metrics.confusion_matrix(y_test, rf_best.predict(X_test))\n",
    "accuracy = metrics.accuracy_score(y_test, rf_best.predict(X_test))\n",
    "roc_auc = roc_auc_score(y_test, rf_best.predict(X_test), average='weighted')\n",
    "    \n",
    "print(\"Accuracy of\",rf_best,\": {:.2f}\".format(accuracy))\n",
    "print(\"ROC AUC Score of\", rf_best,\": {:.2f}\".format(roc_auc))\n",
    "print(\"Confusion Matrix of\", rf_best,\": \\n\")\n",
    "    \n",
    "plt.figure(figsize=(5,5))\n",
    "sns.heatmap(cm, annot=True, fmt=\".3f\", linewidths=.5, square = True, cmap = 'Oranges');\n",
    "plt.ylabel('Actual label');\n",
    "plt.xlabel('Predicted label');\n",
    "title = 'AUC-ROC Score: {:.2f}'.format(roc_auc)\n",
    "plt.title(title)\n",
    "plt.show()\n"
   ]
  },
  {
   "cell_type": "code",
   "execution_count": null,
   "id": "random-store",
   "metadata": {},
   "outputs": [],
   "source": []
  }
 ],
 "metadata": {
  "kernelspec": {
   "display_name": "Python3.6Test",
   "language": "python",
   "name": "python3.6test"
  },
  "language_info": {
   "codemirror_mode": {
    "name": "ipython",
    "version": 3
   },
   "file_extension": ".py",
   "mimetype": "text/x-python",
   "name": "python",
   "nbconvert_exporter": "python",
   "pygments_lexer": "ipython3",
   "version": "3.6.10"
  }
 },
 "nbformat": 4,
 "nbformat_minor": 5
}
